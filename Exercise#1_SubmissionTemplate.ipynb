{
 "cells": [
  {
   "cell_type": "markdown",
   "metadata": {
    "id": "DAO8AZsc266y"
   },
   "source": [
    "# Aditya Rajesh\n",
    "# Programming Exercise \\#1\n",
    "---"
   ]
  },
  {
   "cell_type": "markdown",
   "metadata": {
    "id": "rJOtXeNg38_u"
   },
   "source": [
    "# Preamble"
   ]
  },
  {
   "cell_type": "code",
   "execution_count": 1,
   "metadata": {
    "id": "Ldu0WSDK4IjA"
   },
   "outputs": [
    {
     "name": "stderr",
     "output_type": "stream",
     "text": [
      "<>:4: SyntaxWarning: invalid escape sequence '\\ '\n",
      "<>:4: SyntaxWarning: invalid escape sequence '\\ '\n",
      "/var/folders/jc/ls3v0yk16xx0_4jnbd8m2x_w0000gn/T/ipykernel_67935/3524984580.py:4: SyntaxWarning: invalid escape sequence '\\ '\n",
      "  '''\n"
     ]
    },
    {
     "data": {
      "text/plain": [
       "\"\\n# mount Google Drive in Google Colab\\nfrom google.colab import drive\\ndrive.mount('/content/drive')\\n\\n# change directory using the magic command %cd\\n### replace [MY PATH] below with your own path in Google Drive ###\\n### %cd /content/drive/My\\\\ Drive/[MY PATH] ###\\n\""
      ]
     },
     "execution_count": 1,
     "metadata": {},
     "output_type": "execute_result"
    }
   ],
   "source": [
    "# optional code cell when using Google Colab with Google Drive\n",
    "\n",
    "# remove the docstring comment block below in order to mount Google Drive\n",
    "'''\n",
    "# mount Google Drive in Google Colab\n",
    "from google.colab import drive\n",
    "drive.mount('/content/drive')\n",
    "\n",
    "# change directory using the magic command %cd\n",
    "### replace [MY PATH] below with your own path in Google Drive ###\n",
    "### %cd /content/drive/My\\ Drive/[MY PATH] ###\n",
    "'''"
   ]
  },
  {
   "cell_type": "code",
   "execution_count": 2,
   "metadata": {
    "id": "rjUKWdVD_Eqh"
   },
   "outputs": [],
   "source": [
    "# import relevant Python libraries\n",
    "\n",
    "### Your import commands go here ###\n",
    "import numpy as np\n",
    "import pandas as pd\n",
    "from scipy import stats as sps\n",
    "from IPython.display import display, Latex\n",
    "import matplotlib.pyplot as plt"
   ]
  },
  {
   "cell_type": "markdown",
   "metadata": {
    "id": "PeHo02TLz-hL"
   },
   "source": [
    "# **1. Fetal Health Classification Dataset**"
   ]
  },
  {
   "cell_type": "markdown",
   "metadata": {
    "id": "wnzH3Rd2vu-l"
   },
   "source": [
    "## **Clean Dataset**"
   ]
  },
  {
   "cell_type": "markdown",
   "metadata": {
    "id": "qmMHJttez-hM"
   },
   "source": [
    "### Problem 1.1"
   ]
  },
  {
   "cell_type": "code",
   "execution_count": 3,
   "metadata": {
    "id": "IgKSHxewsRdP"
   },
   "outputs": [],
   "source": [
    "# load the clean dataset csv file into a pandas dataframe\n",
    "\n",
    "fetal_df = pd.read_csv('fetal_health_dataset_clean.csv')"
   ]
  },
  {
   "cell_type": "markdown",
   "metadata": {
    "id": "EKQZRr9Dz-hN"
   },
   "source": [
    "#### (a)"
   ]
  },
  {
   "cell_type": "markdown",
   "metadata": {
    "id": "9eH6uWf4z-hN"
   },
   "source": [
    "_[I believe this dataset would be for a supervised machine learning task. I think this because we have a target variable called fetal_health, and the column has values values of 1, 2 and 3 which makes me feel like this would be a classification problem, since we are categorizing into different classes. The other columns show features that could help predict the target variable. So, in supervised learning, a labeled dataset like the one we got here would be used to train models to help predict the target outcome, so this leads me to my conclusion that it's a supervised learning problem.]_"
   ]
  },
  {
   "cell_type": "markdown",
   "metadata": {
    "id": "77c-6U-_z-hO"
   },
   "source": [
    "#### (b)"
   ]
  },
  {
   "cell_type": "code",
   "execution_count": 4,
   "metadata": {
    "id": "530SUQVjz-hP"
   },
   "outputs": [
    {
     "name": "stdout",
     "output_type": "stream",
     "text": [
      "Axes of the dataframe: [RangeIndex(start=0, stop=2126, step=1), Index(['baseline value', 'accelerations', 'fetal_movement',\n",
      "       'uterine_contractions', 'light_decelerations', 'severe_decelerations',\n",
      "       'prolongued_decelerations', 'abnormal_short_term_variability',\n",
      "       'mean_value_of_short_term_variability',\n",
      "       'percentage_of_time_with_abnormal_long_term_variability',\n",
      "       'mean_value_of_long_term_variability', 'histogram_width',\n",
      "       'histogram_min', 'histogram_max', 'histogram_number_of_peaks',\n",
      "       'histogram_number_of_zeroes', 'histogram_mode', 'histogram_mean',\n",
      "       'histogram_median', 'histogram_variance', 'histogram_tendency',\n",
      "       'fetal_health'],\n",
      "      dtype='object')]\n",
      "Data types of the dataframe columns: baseline value                                              int64\n",
      "accelerations                                             float64\n",
      "fetal_movement                                            float64\n",
      "uterine_contractions                                      float64\n",
      "light_decelerations                                       float64\n",
      "severe_decelerations                                      float64\n",
      "prolongued_decelerations                                  float64\n",
      "abnormal_short_term_variability                             int64\n",
      "mean_value_of_short_term_variability                      float64\n",
      "percentage_of_time_with_abnormal_long_term_variability      int64\n",
      "mean_value_of_long_term_variability                       float64\n",
      "histogram_width                                             int64\n",
      "histogram_min                                               int64\n",
      "histogram_max                                               int64\n",
      "histogram_number_of_peaks                                   int64\n",
      "histogram_number_of_zeroes                                  int64\n",
      "histogram_mode                                              int64\n",
      "histogram_mean                                              int64\n",
      "histogram_median                                            int64\n",
      "histogram_variance                                          int64\n",
      "histogram_tendency                                          int64\n",
      "fetal_health                                                int64\n",
      "dtype: object\n"
     ]
    }
   ],
   "source": [
    "### \n",
    "print(\"Axes of the dataframe:\", fetal_df.axes)\n",
    "print(\"Data types of the dataframe columns:\", fetal_df.dtypes)\n",
    "###\n"
   ]
  },
  {
   "cell_type": "markdown",
   "metadata": {
    "id": "_tMu1LVSz-hQ"
   },
   "source": [
    "#### (c)\n",
    "\n"
   ]
  },
  {
   "cell_type": "code",
   "execution_count": 5,
   "metadata": {
    "id": "1D7twXbHz-hR"
   },
   "outputs": [
    {
     "name": "stdout",
     "output_type": "stream",
     "text": [
      "   baseline value  accelerations  fetal_movement  uterine_contractions  \\\n",
      "0             120          0.000             0.0                 0.000   \n",
      "1             132          0.006             0.0                 0.006   \n",
      "2             133          0.003             0.0                 0.008   \n",
      "3             134          0.003             0.0                 0.008   \n",
      "4             132          0.007             0.0                 0.008   \n",
      "5             134          0.001             0.0                 0.010   \n",
      "6             134          0.001             0.0                 0.013   \n",
      "7             122          0.000             0.0                 0.000   \n",
      "8             122          0.000             0.0                 0.002   \n",
      "9             122          0.000             0.0                 0.003   \n",
      "\n",
      "   light_decelerations  severe_decelerations  prolongued_decelerations  \\\n",
      "0                0.000                   0.0                     0.000   \n",
      "1                0.003                   0.0                     0.000   \n",
      "2                0.003                   0.0                     0.000   \n",
      "3                0.003                   0.0                     0.000   \n",
      "4                0.000                   0.0                     0.000   \n",
      "5                0.009                   0.0                     0.002   \n",
      "6                0.008                   0.0                     0.003   \n",
      "7                0.000                   0.0                     0.000   \n",
      "8                0.000                   0.0                     0.000   \n",
      "9                0.000                   0.0                     0.000   \n",
      "\n",
      "   abnormal_short_term_variability  mean_value_of_short_term_variability  \\\n",
      "0                               73                                   0.5   \n",
      "1                               17                                   2.1   \n",
      "2                               16                                   2.1   \n",
      "3                               16                                   2.4   \n",
      "4                               16                                   2.4   \n",
      "5                               26                                   5.9   \n",
      "6                               29                                   6.3   \n",
      "7                               83                                   0.5   \n",
      "8                               84                                   0.5   \n",
      "9                               86                                   0.3   \n",
      "\n",
      "   percentage_of_time_with_abnormal_long_term_variability  ...  histogram_min  \\\n",
      "0                                                 43       ...             62   \n",
      "1                                                  0       ...             68   \n",
      "2                                                  0       ...             68   \n",
      "3                                                  0       ...             53   \n",
      "4                                                  0       ...             53   \n",
      "5                                                  0       ...             50   \n",
      "6                                                  0       ...             50   \n",
      "7                                                  6       ...             62   \n",
      "8                                                  5       ...             62   \n",
      "9                                                  6       ...             62   \n",
      "\n",
      "   histogram_max  histogram_number_of_peaks  histogram_number_of_zeroes  \\\n",
      "0            126                          2                           0   \n",
      "1            198                          6                           1   \n",
      "2            198                          5                           1   \n",
      "3            170                         11                           0   \n",
      "4            170                          9                           0   \n",
      "5            200                          5                           3   \n",
      "6            200                          6                           3   \n",
      "7            130                          0                           0   \n",
      "8            130                          0                           0   \n",
      "9            130                          1                           0   \n",
      "\n",
      "   histogram_mode  histogram_mean  histogram_median  histogram_variance  \\\n",
      "0             120             137               121                  73   \n",
      "1             141             136               140                  12   \n",
      "2             141             135               138                  13   \n",
      "3             137             134               137                  13   \n",
      "4             137             136               138                  11   \n",
      "5              76             107               107                 170   \n",
      "6              71             107               106                 215   \n",
      "7             122             122               123                   3   \n",
      "8             122             122               123                   3   \n",
      "9             122             122               123                   1   \n",
      "\n",
      "   histogram_tendency  fetal_health  \n",
      "0                   1             2  \n",
      "1                   0             1  \n",
      "2                   0             1  \n",
      "3                   1             1  \n",
      "4                   1             1  \n",
      "5                   0             3  \n",
      "6                   0             3  \n",
      "7                   1             3  \n",
      "8                   1             3  \n",
      "9                   1             3  \n",
      "\n",
      "[10 rows x 22 columns]\n"
     ]
    }
   ],
   "source": [
    "### \n",
    "print(fetal_df.head(10))\n",
    "###\n"
   ]
  },
  {
   "cell_type": "markdown",
   "metadata": {
    "id": "kUKa9J6dz-hR"
   },
   "source": [
    "#### (d)"
   ]
  },
  {
   "cell_type": "code",
   "execution_count": 6,
   "metadata": {
    "id": "2xNG_h3wz-hS"
   },
   "outputs": [
    {
     "name": "stdout",
     "output_type": "stream",
     "text": [
      "Number of rows and columns: (2126, 22)\n"
     ]
    }
   ],
   "source": [
    "### \n",
    "print(\"Number of rows and columns:\", fetal_df.shape)\n",
    "###\n"
   ]
  },
  {
   "cell_type": "markdown",
   "metadata": {
    "id": "Jy00M5wcz-hS"
   },
   "source": [
    "#### (e)"
   ]
  },
  {
   "cell_type": "markdown",
   "metadata": {
    "id": "TfEQY5rUt2fd"
   },
   "source": [
    "_[Each row is termed as a data point]_"
   ]
  },
  {
   "cell_type": "markdown",
   "metadata": {
    "id": "sv2CGUT8uFX3"
   },
   "source": [
    "#### (f)"
   ]
  },
  {
   "cell_type": "markdown",
   "metadata": {
    "id": "tKhYMGeDuLax"
   },
   "source": [
    "_[2126]_"
   ]
  },
  {
   "cell_type": "markdown",
   "metadata": {
    "id": "N0TPsxCauZJ6"
   },
   "source": [
    "#### (g)"
   ]
  },
  {
   "cell_type": "markdown",
   "metadata": {
    "id": "KXYePFTTubbg"
   },
   "source": [
    "_[Everything apart from fetal_health is an independent variable. So, there are 21 independent variables.]_"
   ]
  },
  {
   "cell_type": "markdown",
   "metadata": {
    "id": "hTwCZxwFuhZs"
   },
   "source": [
    "#### (h)"
   ]
  },
  {
   "cell_type": "markdown",
   "metadata": {
    "id": "URok105CuhHF"
   },
   "source": [
    "_[The only dependent variable is the fetal_health variable. So, the number of dependent variables is simply 1.]_"
   ]
  },
  {
   "cell_type": "markdown",
   "metadata": {
    "id": "5XeG2MZFup3y"
   },
   "source": [
    "#### (i)"
   ]
  },
  {
   "cell_type": "markdown",
   "metadata": {
    "id": "5tt7ikfNupvv"
   },
   "source": [
    "_[The matrix X would have the n value of 2126, because that represents the number of rows, and the p value of the matrix would be 21, since those are the number of independent variables for each sample. So, it would have 2126 rows and 21 columns.]_"
   ]
  },
  {
   "cell_type": "markdown",
   "metadata": {
    "id": "BOeDxdYOupk-"
   },
   "source": [
    "#### (j)"
   ]
  },
  {
   "cell_type": "markdown",
   "metadata": {
    "id": "A1IqEbduupbQ"
   },
   "source": [
    "_[Matrix Y would still have the n value of 2126, but would only have the m value of 1 since I have identified only 1 dependent variable in this csv file. So it would be n = 2126, and m = 1]_"
   ]
  },
  {
   "cell_type": "markdown",
   "metadata": {
    "id": "gLVO6JSHupOE"
   },
   "source": [
    "#### (k)"
   ]
  },
  {
   "cell_type": "markdown",
   "metadata": {
    "id": "AHbPBjDsuo6j"
   },
   "source": [
    "_[In my opinion, I believe most of the features have already been pre-processed. This is because the feature names itself show that many of them have already undergone some type of calculation. Like, \"percentage_of_time_with_abnormal_long_term_variability\" is an example of this, because clearly the name indicates it's already undergone a calculation, which means the raw data has been pre-prcoessed in order to get an actual useful percentage. This is the case for many of the feature names so I believe this is not raw data but rather already pre-processed data.]_"
   ]
  },
  {
   "cell_type": "markdown",
   "metadata": {
    "id": "ps849tTTu74M"
   },
   "source": [
    "#### (l)"
   ]
  },
  {
   "cell_type": "code",
   "execution_count": 7,
   "metadata": {
    "id": "XlIIQGYQz-hT"
   },
   "outputs": [
    {
     "name": "stdout",
     "output_type": "stream",
     "text": [
      "Unique values in baseline value: [120 132 133 134 122 151 150 131 130 129 128 124 115 114 116 158 156 148\n",
      " 149 146 144 142 136 141 138 140 154 145 139 125 123 159 143 119 121 127\n",
      " 126 118 135 137 147 157 117 152 112 106 110 160]\n",
      "\n",
      "Unique values in accelerations: [0.    0.006 0.003 0.007 0.001 0.005 0.009 0.002 0.008 0.004 0.01  0.015\n",
      " 0.013 0.014 0.011 0.017 0.012 0.016 0.019 0.018]\n",
      "\n",
      "Unique values in fetal_movement: [0.    0.072 0.222 0.408 0.38  0.441 0.383 0.451 0.469 0.34  0.425 0.334\n",
      " 0.135 0.099 0.108 0.112 0.089 0.103 0.085 0.109 0.079 0.065 0.055 0.058\n",
      " 0.047 0.038 0.012 0.018 0.02  0.005 0.003 0.006 0.001 0.004 0.009 0.01\n",
      " 0.002 0.008 0.007 0.028 0.026 0.107 0.013 0.016 0.029 0.05  0.053 0.011\n",
      " 0.015 0.022 0.021 0.017 0.019 0.025 0.014 0.024 0.023 0.035 0.054 0.03\n",
      " 0.048 0.088 0.043 0.052 0.091 0.033 0.092 0.084 0.115 0.041 0.04  0.027\n",
      " 0.031 0.063 0.06  0.071 0.306 0.298 0.139 0.189 0.157 0.235 0.36  0.455\n",
      " 0.443 0.47  0.477 0.446 0.481 0.369 0.335 0.43  0.346 0.323 0.375 0.353\n",
      " 0.045 0.032 0.051 0.036 0.037 0.049]\n",
      "\n",
      "Unique values in uterine_contractions: [0.    0.006 0.008 0.01  0.013 0.002 0.003 0.001 0.004 0.005 0.007 0.009\n",
      " 0.012 0.011 0.015 0.014]\n",
      "\n",
      "Unique values in light_decelerations: [0.    0.003 0.009 0.008 0.001 0.002 0.005 0.004 0.012 0.01  0.014 0.006\n",
      " 0.007 0.015 0.011 0.013]\n",
      "\n",
      "Unique values in severe_decelerations: [0.    0.001]\n",
      "\n",
      "Unique values in prolongued_decelerations: [0.    0.002 0.003 0.001 0.004 0.005]\n",
      "\n",
      "Unique values in abnormal_short_term_variability: [73 17 16 26 29 83 84 86 64 28 21 19 24 18 23 30 34 80 87 22 27 40 20 43\n",
      " 61 70 57 58 39 41 33 25 44 46 45 52 53 56 65 36 35 38 62 51 67 68 72 63\n",
      " 60 47 50 69 54 55 66 48 31 32 37 49 59 14 12 13 74 75 77 71 76 79 78 81\n",
      " 42 82 15]\n",
      "\n",
      "Unique values in mean_value_of_short_term_variability: [0.5 2.1 2.4 5.9 6.3 0.3 1.9 2.  1.4 1.5 2.3 1.7 2.5 0.4 0.2 4.4 6.  4.5\n",
      " 6.9 2.9 3.4 3.2 3.7 3.6 2.2 1.6 1.8 4.7 4.9 5.  7.  1.3 4.1 5.4 1.2 0.8\n",
      " 1.1 0.9 1.  0.7 2.8 3.9 5.2 4.8 4.3 0.6 5.3 2.6 3.3 3.8 2.7 3.1 5.7 4.\n",
      " 3.5 3.  4.2]\n",
      "\n",
      "Unique values in percentage_of_time_with_abnormal_long_term_variability: [43  0  6  5  9  8 79 72 14 71  1 40 69 54 53 38 29 18 21 37 20  2  3 27\n",
      " 67 68 75 74  7 30 49 39 31 32 19 16 11 34 58 13 10 15 12 25 26  4 46 57\n",
      " 33 23 22 51 52 59 78 84 62 24 45 35 41 61 56 44 81 42 77 88 91 47 55 82\n",
      " 86 60 28 17 70 48 50 36 85 64 66 90 73 65 63]\n",
      "\n",
      "Unique values in mean_value_of_long_term_variability: [ 2.4 10.4 13.4 23.  19.9  0.  15.6 13.6 10.6 27.6 29.5 12.9  5.4  7.9\n",
      "  8.7 10.9 13.9  8.8  7.8  8.5  6.7  4.   6.8  2.9  4.8  3.4 10.5  5.\n",
      " 12.5  6.3 15.1 21.7 12.4 24.2 18.8 16.2 19.6 12.2 13.5 13.3 11.4 15.2\n",
      " 15.7 22.1 21.1 16.6 14.9 12.8 22.2  3.3  6.2  5.1 13.2  5.5  6.4  5.2\n",
      " 11.6 11.2  5.7 11.9 10.3 13.  11.5 17.7 22.3 21.3 25.9 18.4 15.8  1.2\n",
      " 23.4  7.1  6.5  4.9  5.3  4.5  4.6  9.5 14.6 17.3 11.  17.2 13.1 12.1\n",
      " 19.3  4.4 10.1 19.4  5.8  3.9  2.1  7.4  3.1  3.8  4.7 10.8  8.   8.6\n",
      "  4.3  7.2  9.1  8.1 26.3 12.7 35.7 16.9 18.   9.   9.6  8.3 11.3  8.9\n",
      "  3.7  3.2  8.4  8.2 41.8 50.7 25.8 15.9  5.6 10.7 14.  10.  14.1 14.3\n",
      " 15.3 23.3 12.3  9.8  7.7  7.  14.8  7.6  7.5  2.5  6.1 17.9 12.6 15.4\n",
      " 13.8  3.5 18.7 11.7  0.9  1.3 15.5 14.2  9.3  9.2  9.7 19.7 14.5  3.6\n",
      "  6.9  2.8  7.3 16.4 16.7  4.2  9.4 11.8  9.9  6.6  3.  28.4 21.4 18.5\n",
      " 19.  16.1 10.2 11.1 14.4 20.5  4.1  1.6 29.6 29.3 23.1 34.7 27.3 16.\n",
      " 20.   5.9 18.9 17.1  2.7 19.8 24.7 21.5 25.6 26.1  1.4 36.9 29.  28.\n",
      " 17.   6.  16.5 23.8 40.8 25.2  1.9 21.9  2.   1.7 12.  18.1 20.8 17.6\n",
      " 15.  13.7 24.1 17.5 22.5 27.  17.8 20.4 29.1 28.9  2.3  0.5 25.3 22.7\n",
      " 24.9 19.1 25.1 25.4 16.3  2.2 14.7 17.4 23.6  0.4  0.7 19.2  1.8  0.6\n",
      "  1.1  2.6 33.5 27.4  0.3  0.2  1.  21.   0.1  1.5  0.8]\n",
      "\n",
      "Unique values in histogram_width: [ 64 130 117 150  68  66  87 107 125  99 112 128 141 145  16  12  24  10\n",
      " 143 149 144 126 134 138 129  98  93 142 148 120  55  31  18  20 100  44\n",
      "  28  26 111 103  60  37  30 104 108  92 119 140 109 136 113  15  17  25\n",
      "  21  35  83  96  84  29  82 105  62 122 118  54 146  53  56  94  85  77\n",
      "  91  11  23  40  42  22 147  90 121 106  52  48  46  39  33  34  81  65\n",
      "  57 124  72  89 139 127  19  27  69  63  75  38  80  36  71  74  14   8\n",
      " 110  76  79  58 114   7  78   9   5  97 132  13  95  41  47 123  51 135\n",
      " 102 116  86 115 133  88  45  43 137  67  59  32 131 101  70  49  73   3\n",
      "   6  61  50 162 176 161 153 163 158 180]\n",
      "\n",
      "Unique values in histogram_min: [ 62  68  53  50  56  88  71  67  59  65  54  57 114 118 122  55  51  52\n",
      "  77 142 130 136  58 148 143  78 134  74  81 119 132 138  60  63  73 135\n",
      " 139 128 121 101  72  97 117  80 111  95  92  75  61 153 156 159 133 149\n",
      " 147 146 155  93 115 113 116  83  86  91  69 129 140 145 103 109 112  90\n",
      "  82 125  64 120  89 141 107 106 110  66 131 144 126 137 108  99 151 154\n",
      " 123  70 102  98 124  79  84 127  76 158 100 105  96  94 152 150  87  85\n",
      " 104]\n",
      "\n",
      "Unique values in histogram_max: [126 198 170 200 130 186 154 158 174 178 177 182 199 146 128 191 193 194\n",
      " 181 195 188 153 148 197 161 184 166 163 171 156 185 180 179 169 168 172\n",
      " 176 196 187 167 152 165 150 142 189 144 138 173 183 141 147 149 143 192\n",
      " 135 151 133 131 136 145 175 140 137 139 129 160 159 155 164 190 157 162\n",
      " 134 132 127 213 210 125 123 122 238 205 204 211 228 230]\n",
      "\n",
      "Unique values in histogram_number_of_peaks: [ 2  6  5 11  9  0  1  7  3 13 10  8  4 12 14 15 16 18]\n",
      "\n",
      "Unique values in histogram_number_of_zeroes: [ 0  1  3  2  4 10  5  8  7]\n",
      "\n",
      "Unique values in histogram_mode: [120 141 137  76  71 122 150 135 143 134 133 129  75 126 128 124 123 121\n",
      " 125 119 117 127 116 170 151 154 149 147 140 142 153 162 156 144 146 152\n",
      " 148 145 167 165 161 131 132 136 139 114 163 159 138 158 157 186 187 180\n",
      " 176 115 160  90 108  97 130 155 107 112 109 110 169  99  86 106 113 111\n",
      "  98  95  91  88 164  89 179 105  67  60 100  93  77 103 104  69]\n",
      "\n",
      "Unique values in histogram_mean: [137 136 135 134 107 122 148 125 127 128 124 129 104  99 126 123 119 113\n",
      " 120 112 116 115 117 118 168 171 142 131 152 155 153 154 145 140 143 156\n",
      " 158 157 147 150 164 163 151 149 130 132 114 105 162 165 169 172 167 161\n",
      " 146 121 133 160 141 144 139 138 159 166 178 180 182 175 173  98  90  87\n",
      " 106 110 109 108 111  91 103 101  83  84  78  85  82 100 170 102  97  92\n",
      "  93  95  81  79  76  89  88  75  94  96  86  80  73]\n",
      "\n",
      "Unique values in histogram_median: [121 140 138 137 107 106 123 151 141 135 133 132 129 120 102 125 127 117\n",
      " 126 115 130 118 119 124 170 172 152 136 154 150 156 155 147 144 159 160\n",
      " 153 149 158 166 165 148 145 157 128 134 113 164 174 168 162 163 139 122\n",
      " 161 131 143 146 142 169 180 183 186 178 171 176 177 116  91 167  78  77\n",
      " 112 114 111 110  86  79 108 105 109  95  94  97 101  98  93  99 100  92\n",
      "  87  90  82 103 104]\n",
      "\n",
      "Unique values in histogram_variance: [ 73  12  13  11 170 215   3   1   9  10   7  76  43  70  45  36  27 138\n",
      "  34 148   0  89  56  66  35  25  24  21  19  14  23  28  75  72 108   8\n",
      "   4   2   5  18  15   6  16  55  20  86  60 117  39  30 137  65  41 136\n",
      "  38 157 106 177  52  29  54  44  37  42  17  22  26  33  53  62  74  69\n",
      "  79  83 100  31  49  51  95  61  47  68  40 104  48 103 129  57  85  46\n",
      "  32  82  91  90  92  64  63  59 127 114  78  84  94  97  80  71 101 126\n",
      " 134 144  50  87 115  96 116  77 119 110  98 113 195 182 128  88 109 121\n",
      " 269 250 254 243 241 190 147]\n",
      "\n",
      "Unique values in histogram_tendency: [ 1  0 -1]\n",
      "\n",
      "Unique values in fetal_health: [2 1 3]\n",
      "\n"
     ]
    },
    {
     "data": {
      "text/plain": [
       "array([[<Axes: title={'center': 'baseline value'}>,\n",
       "        <Axes: title={'center': 'accelerations'}>,\n",
       "        <Axes: title={'center': 'fetal_movement'}>,\n",
       "        <Axes: title={'center': 'uterine_contractions'}>,\n",
       "        <Axes: title={'center': 'light_decelerations'}>],\n",
       "       [<Axes: title={'center': 'severe_decelerations'}>,\n",
       "        <Axes: title={'center': 'prolongued_decelerations'}>,\n",
       "        <Axes: title={'center': 'abnormal_short_term_variability'}>,\n",
       "        <Axes: title={'center': 'mean_value_of_short_term_variability'}>,\n",
       "        <Axes: title={'center': 'percentage_of_time_with_abnormal_long_term_variability'}>],\n",
       "       [<Axes: title={'center': 'mean_value_of_long_term_variability'}>,\n",
       "        <Axes: title={'center': 'histogram_width'}>,\n",
       "        <Axes: title={'center': 'histogram_min'}>,\n",
       "        <Axes: title={'center': 'histogram_max'}>,\n",
       "        <Axes: title={'center': 'histogram_number_of_peaks'}>],\n",
       "       [<Axes: title={'center': 'histogram_number_of_zeroes'}>,\n",
       "        <Axes: title={'center': 'histogram_mode'}>,\n",
       "        <Axes: title={'center': 'histogram_mean'}>,\n",
       "        <Axes: title={'center': 'histogram_median'}>,\n",
       "        <Axes: title={'center': 'histogram_variance'}>],\n",
       "       [<Axes: title={'center': 'histogram_tendency'}>,\n",
       "        <Axes: title={'center': 'fetal_health'}>, <Axes: >, <Axes: >,\n",
       "        <Axes: >]], dtype=object)"
      ]
     },
     "execution_count": 7,
     "metadata": {},
     "output_type": "execute_result"
    },
    {
     "data": {
      "image/png": "[encoded data removed]",
      "text/plain": [
       "<Figure size 2000x1500 with 25 Axes>"
      ]
     },
     "metadata": {},
     "output_type": "display_data"
    }
   ],
   "source": [
    "### \n",
    "for column in fetal_df.columns:\n",
    "    print(f\"Unique values in {column}: {fetal_df[column].unique()}\\n\")\n",
    "fetal_df.hist(figsize=(20, 15))\n",
    "###"
   ]
  },
  {
   "cell_type": "markdown",
   "metadata": {
    "id": "240_-4A5u8oB"
   },
   "source": [
    "_[Categorical variables are variables with a small and limited set of unique values, and from the output from the code I put in the other cell, what I can determine is that the caterogical variales are: severe_declarations, prolongued_decelerations, histogram_number_of_zeroes, histogram_tendency, fetal_health. This is because all of these variables have only a really small amount of unique values, the most being up to 10. This, to me, shows that these are representing categories or classes which is why I think these variables are the categorical variables.]_"
   ]
  },
  {
   "cell_type": "markdown",
   "metadata": {
    "id": "avTEhBQLvMtw"
   },
   "source": [
    "#### (m)"
   ]
  },
  {
   "cell_type": "markdown",
   "metadata": {
    "id": "r1psH--XvMV8"
   },
   "source": [
    "_[They aren't using one-hot encoding, and I believe they are instead using label encoding, since there is some inherent ranking within these categories.]_"
   ]
  },
  {
   "cell_type": "markdown",
   "metadata": {
    "id": "qVW9ov3kvMRj"
   },
   "source": [
    "#### (n)"
   ]
  },
  {
   "cell_type": "code",
   "execution_count": 8,
   "metadata": {
    "id": "zV2P8n4pvUQT"
   },
   "outputs": [
    {
     "name": "stdout",
     "output_type": "stream",
     "text": [
      "Normal: 1655 samples\n",
      "Suspect: 295 samples\n",
      "Pathological: 176 samples\n"
     ]
    }
   ],
   "source": [
    "### \n",
    "fetal_health_counts = fetal_df['fetal_health'].value_counts()\n",
    "health_conditions = {1: 'Normal', 2: 'Suspect', 3: 'Pathological'}\n",
    "for condition, label in health_conditions.items():\n",
    "    print(f\"{label}: {fetal_health_counts[condition]} samples\")\n",
    "###"
   ]
  },
  {
   "cell_type": "markdown",
   "metadata": {
    "id": "z8lTzSQFwqI1"
   },
   "source": [
    "## **Dirty Dataset**"
   ]
  },
  {
   "cell_type": "code",
   "execution_count": 9,
   "metadata": {
    "id": "hAMx9uwbw8rV"
   },
   "outputs": [],
   "source": [
    "# load the dirty dataset csv file into a pandas dataframe\n",
    "\n",
    "### \n",
    "fetal_dirty_df = pd.read_csv('fetal_health_dataset_dirty.csv') \n",
    "###"
   ]
  },
  {
   "cell_type": "markdown",
   "metadata": {
    "id": "nOJPywDYz-hT"
   },
   "source": [
    "### Problem 1.2"
   ]
  },
  {
   "cell_type": "markdown",
   "metadata": {
    "id": "UTf6Yiqjz-hT"
   },
   "source": [
    "#### (a)"
   ]
  },
  {
   "cell_type": "code",
   "execution_count": 10,
   "metadata": {
    "id": "qOPVMIawz-hU"
   },
   "outputs": [
    {
     "name": "stdout",
     "output_type": "stream",
     "text": [
      "baseline value                                            47\n",
      "accelerations                                              0\n",
      "fetal_movement                                             0\n",
      "uterine_contractions                                       0\n",
      "light_decelerations                                        0\n",
      "severe_decelerations                                       0\n",
      "prolongued_decelerations                                   0\n",
      "abnormal_short_term_variability                            0\n",
      "mean_value_of_short_term_variability                       0\n",
      "percentage_of_time_with_abnormal_long_term_variability    10\n",
      "mean_value_of_long_term_variability                        0\n",
      "histogram_width                                            0\n",
      "histogram_min                                              0\n",
      "histogram_max                                             24\n",
      "histogram_number_of_peaks                                  0\n",
      "histogram_number_of_zeroes                                 0\n",
      "histogram_mode                                             5\n",
      "histogram_mean                                             0\n",
      "histogram_median                                           0\n",
      "histogram_variance                                         0\n",
      "histogram_tendency                                         0\n",
      "fetal_health                                               0\n",
      "dtype: int64\n"
     ]
    }
   ],
   "source": [
    "### \n",
    "missing_values = fetal_dirty_df.isna().sum()\n",
    "print(missing_values)\n",
    "###"
   ]
  },
  {
   "cell_type": "markdown",
   "metadata": {
    "id": "CrZQxH5hz-hU"
   },
   "source": [
    "#### (b)"
   ]
  },
  {
   "cell_type": "code",
   "execution_count": 11,
   "metadata": {
    "id": "ESSjRnLCz-hU"
   },
   "outputs": [
    {
     "name": "stdout",
     "output_type": "stream",
     "text": [
      "Columns with missing values: ['baseline value', 'percentage_of_time_with_abnormal_long_term_variability', 'histogram_max', 'histogram_mode']\n"
     ]
    }
   ],
   "source": [
    "### \n",
    "missing_columns = fetal_dirty_df.columns[fetal_dirty_df.isna().any()].tolist()\n",
    "print(\"Columns with missing values:\", missing_columns)\n",
    "###"
   ]
  },
  {
   "cell_type": "markdown",
   "metadata": {
    "id": "hWh95Fiyz-hU"
   },
   "source": [
    "#### (c)"
   ]
  },
  {
   "cell_type": "code",
   "execution_count": 12,
   "metadata": {
    "id": "VZ9EtxC-z-hV"
   },
   "outputs": [
    {
     "name": "stdout",
     "output_type": "stream",
     "text": [
      "Number of samples with missing values: 86\n"
     ]
    }
   ],
   "source": [
    "### \n",
    "num_missing_samples = fetal_dirty_df.isna().any(axis=1).sum()\n",
    "print(\"Number of samples with missing values:\", num_missing_samples)\n",
    "###"
   ]
  },
  {
   "cell_type": "markdown",
   "metadata": {
    "id": "OYDjQvfFxnQw"
   },
   "source": [
    "### Problem 1.3"
   ]
  },
  {
   "cell_type": "code",
   "execution_count": 13,
   "metadata": {
    "id": "5YCLwVJuxrXG"
   },
   "outputs": [
    {
     "name": "stdout",
     "output_type": "stream",
     "text": [
      "     baseline value  accelerations  fetal_movement  uterine_contractions  \\\n",
      "91            148.0          0.000           0.000                 0.000   \n",
      "92            148.0          0.000           0.003                 0.000   \n",
      "93              NaN          0.000           0.000                 0.000   \n",
      "94            148.0          0.000           0.005                 0.002   \n",
      "95            148.0          0.000           0.000                 0.000   \n",
      "96            148.0          0.000           0.000                 0.000   \n",
      "97            148.0          0.000           0.001                 0.000   \n",
      "98            148.0          0.000           0.001                 0.000   \n",
      "99            125.0          0.010           0.007                 0.002   \n",
      "100           125.0          0.005           0.000                 0.002   \n",
      "\n",
      "     light_decelerations  severe_decelerations  prolongued_decelerations  \\\n",
      "91                 0.000                   0.0                       0.0   \n",
      "92                 0.000                   0.0                       0.0   \n",
      "93                 0.000                   0.0                       0.0   \n",
      "94                 0.000                   0.0                       0.0   \n",
      "95                 0.000                   0.0                       0.0   \n",
      "96                 0.000                   0.0                       0.0   \n",
      "97                 0.001                   0.0                       0.0   \n",
      "98                 0.001                   0.0                       0.0   \n",
      "99                 0.000                   0.0                       0.0   \n",
      "100                0.003                   0.0                       0.0   \n",
      "\n",
      "     abnormal_short_term_variability  mean_value_of_short_term_variability  \\\n",
      "91                                67                                   0.4   \n",
      "92                                70                                   0.3   \n",
      "93                                68                                   0.3   \n",
      "94                                72                                   0.3   \n",
      "95                                58                                   0.5   \n",
      "96                                63                                   0.4   \n",
      "97                                60                                   0.5   \n",
      "98                                61                                   0.5   \n",
      "99                                19                                   1.9   \n",
      "100                               25                                   1.7   \n",
      "\n",
      "     percentage_of_time_with_abnormal_long_term_variability  ...  \\\n",
      "91                                                67.0       ...   \n",
      "92                                                68.0       ...   \n",
      "93                                                75.0       ...   \n",
      "94                                                74.0       ...   \n",
      "95                                                 7.0       ...   \n",
      "96                                                30.0       ...   \n",
      "97                                                49.0       ...   \n",
      "98                                                39.0       ...   \n",
      "99                                                 0.0       ...   \n",
      "100                                                6.0       ...   \n",
      "\n",
      "     histogram_min  histogram_max  histogram_number_of_peaks  \\\n",
      "91             139          154.0                          4   \n",
      "92             136          153.0                          2   \n",
      "93             128            NaN                          3   \n",
      "94             136          152.0                          0   \n",
      "95             135          156.0                          1   \n",
      "96             121          156.0                          3   \n",
      "97              78          161.0                          3   \n",
      "98             130          161.0                          2   \n",
      "99             101          197.0                          8   \n",
      "100             72          165.0                          3   \n",
      "\n",
      "     histogram_number_of_zeroes  histogram_mode  histogram_mean  \\\n",
      "91                            0           150.0             149   \n",
      "92                            0           150.0             148   \n",
      "93                            0           150.0             149   \n",
      "94                            0           150.0             148   \n",
      "95                            0           150.0             149   \n",
      "96                            1           150.0             149   \n",
      "97                            0           154.0             152   \n",
      "98                            0           154.0             152   \n",
      "99                            1           133.0             131   \n",
      "100                           0           133.0             128   \n",
      "\n",
      "     histogram_median  histogram_variance  histogram_tendency  fetal_health  \n",
      "91                151                   0                   1             2  \n",
      "92                150                   0                   1             2  \n",
      "93                151                   0                   1             3  \n",
      "94                150                   0                   1             3  \n",
      "95                151                   1                   1             1  \n",
      "96                151                   1                   1             2  \n",
      "97                154                   1                   1             2  \n",
      "98                154                   1                   1             2  \n",
      "99                133                   5                  -1             1  \n",
      "100               132                  10                   0             1  \n",
      "\n",
      "[10 rows x 22 columns]\n"
     ]
    }
   ],
   "source": [
    "### \n",
    "fetal_dirty_df.loc[(fetal_dirty_df['baseline value'] < 110) | (fetal_dirty_df['baseline value'] > 160), 'baseline value'] = np.nan\n",
    "fetal_dirty_df.loc[fetal_dirty_df['accelerations'] < 0, 'accelerations'] = np.nan\n",
    "fetal_dirty_df.loc[fetal_dirty_df['fetal_movement'] < 0, 'fetal_movement'] = np.nan\n",
    "fetal_dirty_df.loc[fetal_dirty_df['uterine_contractions'] < 0, 'uterine_contractions'] = np.nan\n",
    "fetal_dirty_df.loc[fetal_dirty_df['light_decelerations'] < 0, 'light_decelerations'] = np.nan\n",
    "print(fetal_dirty_df.loc[91:100])\n",
    "###"
   ]
  },
  {
   "cell_type": "markdown",
   "metadata": {
    "id": "zpP3WEH6xw9b"
   },
   "source": [
    "_[So, to justify my logic, first let's talk about the baseline values. So, the baseline value should be expected to be in a normal range - between 110 to 160 since we're talking about a fetal heart here. So, anything outside that range could represent some type of error or outlier. So here, we would replace it with NaN. Next, let's talk about the accelerations. Accelerations in our context basically mean the increase in the heart rate, so obviously it cannot be negaitve, since that is not biologically possible. So, we replace those with NaN too. Next, we have fetal movement, and obviously any negative value has to be an error since negative movement in the context of everyday relality does not exist. Uterine contractions are the next one, since again, these cannot be negative in reality. So the negatives here get NaN-ed. Light decelerations also cannot be negative in reality, so again we NaN any negative values. ]_"
   ]
  },
  {
   "cell_type": "markdown",
   "metadata": {
    "id": "OqxjckzSz-hV"
   },
   "source": [
    "### Problem 1.4"
   ]
  },
  {
   "cell_type": "code",
   "execution_count": 14,
   "metadata": {
    "id": "IPw21Smex-cV"
   },
   "outputs": [
    {
     "name": "stdout",
     "output_type": "stream",
     "text": [
      "    baseline value  accelerations  fetal_movement  uterine_contractions  \\\n",
      "0        -1.375981      -0.822195       -0.203162             -1.482116   \n",
      "1        -0.142088       0.729961       -0.203162              0.554496   \n",
      "2        -0.039264      -0.046117       -0.203162              1.233367   \n",
      "3         0.063561      -0.046117       -0.203162              1.233367   \n",
      "4        -0.142088       0.988654       -0.203162              1.233367   \n",
      "5         0.063561      -0.563502       -0.203162              1.912238   \n",
      "6         0.063561      -0.563502       -0.203162              2.930544   \n",
      "7        -1.170332      -0.822195       -0.203162             -1.482116   \n",
      "8        -1.170332      -0.822195       -0.203162             -0.803245   \n",
      "9        -1.170332      -0.822195       -0.203162             -0.463810   \n",
      "10        1.811576      -0.822195       -0.203162             -1.142681   \n",
      "11        1.708751      -0.822195       -0.203162             -1.142681   \n",
      "12       -0.244913       0.471268        1.339723              1.233367   \n",
      "13       -0.244913       1.506039        4.554065              0.554496   \n",
      "14       -0.347737       0.729961        8.539849             -0.124374   \n",
      "15       -0.347737       0.729961        7.939839             -0.124374   \n",
      "16       -0.347737       0.729961        9.247005              0.215061   \n",
      "17       -0.244913      -0.304810        8.004126             -0.463810   \n",
      "18       -0.347737      -0.046117        9.461294              0.554496   \n",
      "19       -0.347737       0.471268        9.847015              0.215061   \n",
      "\n",
      "    light_decelerations  severe_decelerations  prolongued_decelerations  \\\n",
      "0             -0.638287             -0.057462                 -0.268691   \n",
      "1              0.375155             -0.057462                 -0.268691   \n",
      "2              0.375155             -0.057462                 -0.268691   \n",
      "3              0.375155             -0.057462                 -0.268691   \n",
      "4             -0.638287             -0.057462                 -0.268691   \n",
      "5              2.402039             -0.057462                  3.121441   \n",
      "6              2.064225             -0.057462                  4.816507   \n",
      "7             -0.638287             -0.057462                 -0.268691   \n",
      "8             -0.638287             -0.057462                 -0.268691   \n",
      "9             -0.638287             -0.057462                 -0.268691   \n",
      "10            -0.300473             -0.057462                 -0.268691   \n",
      "11            -0.300473             -0.057462                 -0.268691   \n",
      "12             0.375155             -0.057462                 -0.268691   \n",
      "13             0.037341             -0.057462                 -0.268691   \n",
      "14             1.050783             -0.057462                  1.426375   \n",
      "15             0.712969             -0.057462                  1.426375   \n",
      "16             1.050783             -0.057462                 -0.268691   \n",
      "17             1.050783             -0.057462                  3.121441   \n",
      "18             0.712969             -0.057462                  1.426375   \n",
      "19             0.712969             -0.057462                  1.426375   \n",
      "\n",
      "    abnormal_short_term_variability  mean_value_of_short_term_variability  \\\n",
      "0                          1.512834                             -0.942873   \n",
      "1                         -1.744341                              0.868636   \n",
      "2                         -1.802504                              0.868636   \n",
      "3                         -1.802504                              1.208294   \n",
      "4                         -1.802504                              1.208294   \n",
      "5                         -1.220866                              5.170971   \n",
      "6                         -1.046375                              5.623848   \n",
      "7                          2.094473                             -0.942873   \n",
      "8                          2.152636                             -0.942873   \n",
      "9                          2.268964                             -1.169312   \n",
      "10                         0.989360                              0.642198   \n",
      "11                         0.989360                              0.755417   \n",
      "12                        -1.104538                              0.076101   \n",
      "13                        -1.104538                              0.189320   \n",
      "14                        -1.511685                              1.095075   \n",
      "15                        -1.628013                              1.095075   \n",
      "16                        -1.337194                              0.868636   \n",
      "17                        -1.686177                              1.208294   \n",
      "18                        -1.395358                              0.642198   \n",
      "19                        -1.046375                              0.415759   \n",
      "\n",
      "    percentage_of_time_with_abnormal_long_term_variability  ...  \\\n",
      "0                                            1.808583       ...   \n",
      "1                                           -0.532666       ...   \n",
      "2                                           -0.532666       ...   \n",
      "3                                           -0.532666       ...   \n",
      "4                                           -0.532666       ...   \n",
      "5                                           -0.532666       ...   \n",
      "6                                           -0.532666       ...   \n",
      "7                                           -0.205980       ...   \n",
      "8                                           -0.260427       ...   \n",
      "9                                           -0.205980       ...   \n",
      "10                                          -0.042637       ...   \n",
      "11                                          -0.097085       ...   \n",
      "12                                          -0.532666       ...   \n",
      "13                                          -0.532666       ...   \n",
      "14                                          -0.532666       ...   \n",
      "15                                          -0.532666       ...   \n",
      "16                                          -0.532666       ...   \n",
      "17                                          -0.532666       ...   \n",
      "18                                          -0.532666       ...   \n",
      "19                                          -0.532666       ...   \n",
      "\n",
      "    histogram_min  histogram_max  histogram_number_of_peaks  \\\n",
      "0       -1.068311      -2.126422                  -0.701232   \n",
      "1       -0.865335       1.890418                   0.654983   \n",
      "2       -0.865335       1.890418                   0.315929   \n",
      "3       -1.372774       0.328314                   2.350251   \n",
      "4       -1.372774       0.328314                   1.672144   \n",
      "5       -1.474262       2.001997                   0.315929   \n",
      "6       -1.474262       2.001997                   0.654983   \n",
      "7       -1.068311      -1.903264                  -1.379339   \n",
      "8       -1.068311      -1.903264                  -1.379339   \n",
      "9       -1.068311      -1.903264                  -1.040286   \n",
      "10      -1.271286       1.220945                  -0.701232   \n",
      "11      -1.271286       1.220945                   0.315929   \n",
      "12      -0.188750      -0.564317                   0.315929   \n",
      "13      -0.763847      -0.341160                  -0.701232   \n",
      "14      -0.899164       0.551472                   0.994036   \n",
      "15      -0.899164       0.551472                  -0.362178   \n",
      "16      -1.372774       0.774629                   0.315929   \n",
      "17      -0.899164       0.551472                   0.315929   \n",
      "18      -1.169799      -0.341160                   0.654983   \n",
      "19      -0.966823       0.718840                   0.654983   \n",
      "\n",
      "    histogram_number_of_zeroes  histogram_mode  histogram_mean  \\\n",
      "0                    -0.458336       -1.064163        0.153234   \n",
      "1                     0.957976        0.216611        0.089105   \n",
      "2                     0.957976        0.216611        0.024976   \n",
      "3                    -0.458336       -0.027346       -0.039153   \n",
      "4                    -0.458336       -0.027346        0.089105   \n",
      "5                     3.790598       -3.747689       -1.770633   \n",
      "6                     3.790598       -4.052635       -1.770633   \n",
      "7                    -0.458336       -0.942184       -0.808700   \n",
      "8                    -0.458336       -0.942184       -0.808700   \n",
      "9                    -0.458336       -0.942184       -0.808700   \n",
      "10                   -0.458336        0.765514        0.858651   \n",
      "11                   -0.458336        0.765514        0.858651   \n",
      "12                   -0.458336       -0.149324       -0.039153   \n",
      "13                   -0.458336        0.216611        0.153234   \n",
      "14                   -0.458336        0.338589       -0.616313   \n",
      "15                   -0.458336       -0.210314       -0.488055   \n",
      "16                   -0.458336        0.338589       -0.423926   \n",
      "17                   -0.458336       -0.210314       -0.616313   \n",
      "18                   -0.458336       -0.271303       -0.680442   \n",
      "19                    0.957976       -0.271303       -0.359797   \n",
      "\n",
      "    histogram_median  histogram_variance  histogram_tendency  fetal_health  \n",
      "0          -1.181364            1.870129            1.112718             2  \n",
      "1           0.132007           -0.234943           -0.524402             1  \n",
      "2          -0.006243           -0.200434           -0.524402             1  \n",
      "3          -0.075367           -0.200434            1.112718             1  \n",
      "4          -0.006243           -0.269452            1.112718             1  \n",
      "5          -2.149111            5.217538           -0.524402             3  \n",
      "6          -2.218236            6.770459           -0.524402             3  \n",
      "7          -1.043115           -0.545527            1.112718             3  \n",
      "8          -1.043115           -0.545527            1.112718             3  \n",
      "9          -1.043115           -0.614546            1.112718             3  \n",
      "10          0.892380           -0.338471            1.112718             2  \n",
      "11          0.892380           -0.303962            1.112718             2  \n",
      "12         -0.075367           -0.407490            1.112718             1  \n",
      "13          0.201132           -0.303962            1.112718             1  \n",
      "14         -0.213617            1.973657           -0.524402             1  \n",
      "15         -0.351867            0.834848           -0.524402             1  \n",
      "16         -0.006243            1.766601            1.112718             1  \n",
      "17         -0.420991            0.903866           -0.524402             2  \n",
      "18         -0.628366            0.593282            1.112718             1  \n",
      "19         -0.351867            0.282698           -0.524402             1  \n",
      "\n",
      "[20 rows x 22 columns]\n"
     ]
    }
   ],
   "source": [
    "###\n",
    "def standardize_column(col):\n",
    "    return (col - col.mean()) / col.std()\n",
    "non_categorical_cols = fetal_dirty_df.columns.drop('fetal_health')\n",
    "fetal_dirty_df[non_categorical_cols] = fetal_dirty_df[non_categorical_cols].apply(lambda x: (x - x.mean()) / x.std())\n",
    "print(fetal_dirty_df.head(20))\n",
    "###"
   ]
  },
  {
   "cell_type": "markdown",
   "metadata": {
    "id": "bgxDFuA3z-hW"
   },
   "source": [
    "### Problem 1.5"
   ]
  },
  {
   "cell_type": "code",
   "execution_count": 15,
   "metadata": {
    "id": "-0v14ybDz-hW"
   },
   "outputs": [
    {
     "name": "stdout",
     "output_type": "stream",
     "text": [
      "    baseline value  accelerations  fetal_movement  uterine_contractions  \\\n",
      "0        -0.142088       0.729961       -0.203162              0.554496   \n",
      "1        -0.039264      -0.046117       -0.203162              1.233367   \n",
      "2         0.063561      -0.046117       -0.203162              1.233367   \n",
      "3        -0.142088       0.988654       -0.203162              1.233367   \n",
      "4        -0.244913       0.471268        1.339723              1.233367   \n",
      "5        -0.244913       1.506039        4.554065              0.554496   \n",
      "6        -0.347737       0.729961        8.539849             -0.124374   \n",
      "7        -0.347737       0.729961        7.939839             -0.124374   \n",
      "8        -0.347737       0.729961        9.247005              0.215061   \n",
      "9        -0.347737      -0.046117        9.461294              0.554496   \n",
      "10       -0.347737       0.471268        9.847015              0.215061   \n",
      "11       -0.553386       0.471268        8.904142             -0.463810   \n",
      "12       -0.142088      -0.822195        1.918304             -1.482116   \n",
      "13       -0.142088      -0.822195        2.111165             -0.803245   \n",
      "14       -0.142088      -0.822195        2.196881             -0.124374   \n",
      "15       -0.142088      -0.822195        1.704015             -1.142681   \n",
      "16       -1.375981       1.247346        2.004020             -1.142681   \n",
      "17       -1.375981       1.506039        1.618299             -0.803245   \n",
      "18       -1.375981       0.729961        2.132594              0.893932   \n",
      "19       -1.890103       0.471268        1.489725              0.215061   \n",
      "\n",
      "    light_decelerations  severe_decelerations  prolongued_decelerations  \\\n",
      "0              0.375155             -0.057462                 -0.268691   \n",
      "1              0.375155             -0.057462                 -0.268691   \n",
      "2              0.375155             -0.057462                 -0.268691   \n",
      "3             -0.638287             -0.057462                 -0.268691   \n",
      "4              0.375155             -0.057462                 -0.268691   \n",
      "5              0.037341             -0.057462                 -0.268691   \n",
      "6              1.050783             -0.057462                  1.426375   \n",
      "7              0.712969             -0.057462                  1.426375   \n",
      "8              1.050783             -0.057462                 -0.268691   \n",
      "9              0.712969             -0.057462                  1.426375   \n",
      "10             0.712969             -0.057462                  1.426375   \n",
      "11             0.375155             -0.057462                  3.121441   \n",
      "12             3.415481             -0.057462                 -0.268691   \n",
      "13             2.739853             -0.057462                 -0.268691   \n",
      "14             4.091109             -0.057462                 -0.268691   \n",
      "15             2.739853             -0.057462                 -0.268691   \n",
      "16            -0.300473             -0.057462                 -0.268691   \n",
      "17             0.037341             -0.057462                 -0.268691   \n",
      "18            -0.638287             -0.057462                 -0.268691   \n",
      "19             0.375155             -0.057462                 -0.268691   \n",
      "\n",
      "    abnormal_short_term_variability  mean_value_of_short_term_variability  \\\n",
      "0                         -1.744341                              0.868636   \n",
      "1                         -1.802504                              0.868636   \n",
      "2                         -1.802504                              1.208294   \n",
      "3                         -1.802504                              1.208294   \n",
      "4                         -1.104538                              0.076101   \n",
      "5                         -1.104538                              0.189320   \n",
      "6                         -1.511685                              1.095075   \n",
      "7                         -1.628013                              1.095075   \n",
      "8                         -1.337194                              0.868636   \n",
      "9                         -1.395358                              0.642198   \n",
      "10                        -1.046375                              0.415759   \n",
      "11                        -1.220866                              0.415759   \n",
      "12                        -1.220866                              5.284190   \n",
      "13                        -1.220866                              3.585900   \n",
      "14                        -1.453521                              6.303165   \n",
      "15                        -1.046375                              1.774391   \n",
      "16                        -1.104538                              2.340488   \n",
      "17                        -1.104538                              2.114049   \n",
      "18                        -1.162702                              2.680146   \n",
      "19                        -1.395358                              2.340488   \n",
      "\n",
      "    percentage_of_time_with_abnormal_long_term_variability  ...  \\\n",
      "0                                           -0.532666       ...   \n",
      "1                                           -0.532666       ...   \n",
      "2                                           -0.532666       ...   \n",
      "3                                           -0.532666       ...   \n",
      "4                                           -0.532666       ...   \n",
      "5                                           -0.532666       ...   \n",
      "6                                           -0.532666       ...   \n",
      "7                                           -0.532666       ...   \n",
      "8                                           -0.532666       ...   \n",
      "9                                           -0.532666       ...   \n",
      "10                                          -0.532666       ...   \n",
      "11                                          -0.532666       ...   \n",
      "12                                          -0.532666       ...   \n",
      "13                                          -0.532666       ...   \n",
      "14                                          -0.532666       ...   \n",
      "15                                          -0.532666       ...   \n",
      "16                                          -0.532666       ...   \n",
      "17                                          -0.532666       ...   \n",
      "18                                          -0.532666       ...   \n",
      "19                                          -0.532666       ...   \n",
      "\n",
      "    histogram_min  histogram_max  histogram_number_of_peaks  \\\n",
      "0       -0.865335       1.890418                   0.654983   \n",
      "1       -0.865335       1.890418                   0.315929   \n",
      "2       -1.372774       0.328314                   2.350251   \n",
      "3       -1.372774       0.328314                   1.672144   \n",
      "4       -0.188750      -0.564317                   0.315929   \n",
      "5       -0.763847      -0.341160                  -0.701232   \n",
      "6       -0.899164       0.551472                   0.994036   \n",
      "7       -0.899164       0.551472                  -0.362178   \n",
      "8       -1.372774       0.774629                   0.315929   \n",
      "9       -1.169799      -0.341160                   0.654983   \n",
      "10      -0.966823       0.718840                   0.654983   \n",
      "11      -1.237457       1.890418                   1.672144   \n",
      "12      -1.474262       1.611471                   2.011197   \n",
      "13      -1.474262       1.946208                   1.672144   \n",
      "14      -1.474262       1.946208                   2.011197   \n",
      "15      -1.474262       1.667261                   2.350251   \n",
      "16      -1.305116       0.941998                   3.028358   \n",
      "17      -1.372774       0.941998                   1.672144   \n",
      "18      -1.440433       1.723050                   2.350251   \n",
      "19      -1.406603       0.997787                   1.672144   \n",
      "\n",
      "    histogram_number_of_zeroes  histogram_mode  histogram_mean  \\\n",
      "0                     0.957976        0.216611        0.089105   \n",
      "1                     0.957976        0.216611        0.024976   \n",
      "2                    -0.458336       -0.027346       -0.039153   \n",
      "3                    -0.458336       -0.027346        0.089105   \n",
      "4                    -0.458336       -0.149324       -0.039153   \n",
      "5                    -0.458336        0.216611        0.153234   \n",
      "6                    -0.458336        0.338589       -0.616313   \n",
      "7                    -0.458336       -0.210314       -0.488055   \n",
      "8                    -0.458336        0.338589       -0.423926   \n",
      "9                    -0.458336       -0.271303       -0.680442   \n",
      "10                    0.957976       -0.271303       -0.359797   \n",
      "11                   -0.458336       -0.515260       -0.616313   \n",
      "12                   -0.458336       -0.271303       -1.385860   \n",
      "13                   -0.458336       -0.271303       -0.936957   \n",
      "14                   -0.458336       -0.881195       -1.449989   \n",
      "15                    0.957976       -0.271303       -0.680442   \n",
      "16                   -0.458336       -1.003174       -0.680442   \n",
      "17                    0.957976       -0.515260       -0.616313   \n",
      "18                   -0.458336       -0.759217       -0.680442   \n",
      "19                   -0.458336       -1.125152       -1.193473   \n",
      "\n",
      "    histogram_median  histogram_variance  histogram_tendency  fetal_health  \n",
      "0           0.132007           -0.234943           -0.524402             1  \n",
      "1          -0.006243           -0.200434           -0.524402             1  \n",
      "2          -0.075367           -0.200434            1.112718             1  \n",
      "3          -0.006243           -0.269452            1.112718             1  \n",
      "4          -0.075367           -0.407490            1.112718             1  \n",
      "5           0.201132           -0.303962            1.112718             1  \n",
      "6          -0.213617            1.973657           -0.524402             1  \n",
      "7          -0.351867            0.834848           -0.524402             1  \n",
      "8          -0.006243            1.766601            1.112718             1  \n",
      "9          -0.628366            0.593282            1.112718             1  \n",
      "10         -0.351867            0.282698           -0.524402             1  \n",
      "11         -0.420991            0.524263           -0.524402             1  \n",
      "12         -1.457863            2.422279           -0.524402             1  \n",
      "13         -0.835740            1.283469           -0.524402             1  \n",
      "14         -1.596113            1.628563           -0.524402             1  \n",
      "15         -0.559241            0.558773           -0.524402             1  \n",
      "16         -0.835740            0.213679           -0.524402             1  \n",
      "17         -0.766615            0.213679           -0.524402             1  \n",
      "18         -0.835740            0.179170           -0.524402             1  \n",
      "19         -1.388739            0.075641           -0.524402             1  \n",
      "\n",
      "[20 rows x 22 columns]\n"
     ]
    },
    {
     "name": "stderr",
     "output_type": "stream",
     "text": [
      "/var/folders/jc/ls3v0yk16xx0_4jnbd8m2x_w0000gn/T/ipykernel_67935/3654451536.py:4: DeprecationWarning: DataFrameGroupBy.apply operated on the grouping columns. This behavior is deprecated, and in a future version of pandas the grouping columns will be excluded from the operation. Either pass `include_groups=False` to exclude the groupings or explicitly select the grouping columns after groupby to silence this warning.\n",
      "  fetal_dirty_df = fetal_dirty_df.groupby('fetal_health').apply(replace_nan_with_median)\n"
     ]
    }
   ],
   "source": [
    "### \n",
    "def replace_nan_with_median(group):\n",
    "    return group.fillna(group.median())\n",
    "fetal_dirty_df = fetal_dirty_df.groupby('fetal_health').apply(replace_nan_with_median)\n",
    "fetal_dirty_df.reset_index(drop=True, inplace=True)\n",
    "print(fetal_dirty_df.head(20))\n",
    "###"
   ]
  },
  {
   "cell_type": "markdown",
   "metadata": {
    "id": "RRrpdSTJyGt1"
   },
   "source": [
    "### Problem 1.6"
   ]
  },
  {
   "cell_type": "code",
   "execution_count": 16,
   "metadata": {
    "id": "Ctwd0h7XyG8k"
   },
   "outputs": [
    {
     "name": "stdout",
     "output_type": "stream",
     "text": [
      "Dataframe saved as 'fetal_health_dataset_processed.csv'\n"
     ]
    }
   ],
   "source": [
    "###\n",
    "fetal_encoded_df = pd.get_dummies(fetal_dirty_df, columns=['fetal_health'])\n",
    "fetal_encoded_df.to_csv('fetal_health_dataset_processed.csv', index=False)\n",
    "print(\"Dataframe saved as 'fetal_health_dataset_processed.csv'\")\n",
    "###"
   ]
  },
  {
   "cell_type": "markdown",
   "metadata": {
    "id": "E8hZzOSvymHL"
   },
   "source": [
    "# **2. Heart Failure Prediction Dataset**"
   ]
  },
  {
   "cell_type": "markdown",
   "metadata": {
    "id": "5YpfhDVMymHM"
   },
   "source": [
    "## Problem 2.1"
   ]
  },
  {
   "cell_type": "code",
   "execution_count": 17,
   "metadata": {
    "id": "xD1GcvD4ymHM"
   },
   "outputs": [],
   "source": [
    "# load the dataset csv file into a pandas dataframe\n",
    "\n",
    "### \n",
    "heart_df = pd.read_csv('heart_failure_dataset.csv') \n",
    "###"
   ]
  },
  {
   "cell_type": "markdown",
   "metadata": {
    "id": "1EQWwLbvymHN"
   },
   "source": [
    "### (a)"
   ]
  },
  {
   "cell_type": "markdown",
   "metadata": {
    "id": "6GkRt8w6ymHN"
   },
   "source": [
    "_[I would say this is also a supervised machine learning task. This is because this is a labeled dataset and the features correlate to a target variable, which in our case would be the DEATH_EVENT variable. The other variables are features which help predict this target variable.]_"
   ]
  },
  {
   "cell_type": "markdown",
   "metadata": {
    "id": "T5HoKdioymHN"
   },
   "source": [
    "### (b)"
   ]
  },
  {
   "cell_type": "code",
   "execution_count": 18,
   "metadata": {
    "id": "xUGIEmzYymHN"
   },
   "outputs": [
    {
     "name": "stdout",
     "output_type": "stream",
     "text": [
      "Axes of the dataframe: [RangeIndex(start=0, stop=299, step=1), Index(['age', 'anaemia', 'creatinine_phosphokinase', 'diabetes',\n",
      "       'ejection_fraction', 'high_blood_pressure', 'platelets',\n",
      "       'serum_creatinine', 'serum_sodium', 'sex', 'smoking', 'time',\n",
      "       'DEATH_EVENT'],\n",
      "      dtype='object')]\n",
      "Data types of the dataframe columns: age                         float64\n",
      "anaemia                       int64\n",
      "creatinine_phosphokinase      int64\n",
      "diabetes                      int64\n",
      "ejection_fraction             int64\n",
      "high_blood_pressure           int64\n",
      "platelets                   float64\n",
      "serum_creatinine            float64\n",
      "serum_sodium                  int64\n",
      "sex                           int64\n",
      "smoking                       int64\n",
      "time                          int64\n",
      "DEATH_EVENT                   int64\n",
      "dtype: object\n"
     ]
    }
   ],
   "source": [
    "### \n",
    "print(\"Axes of the dataframe:\", heart_df.axes)\n",
    "print(\"Data types of the dataframe columns:\", heart_df.dtypes)\n",
    "###"
   ]
  },
  {
   "cell_type": "markdown",
   "metadata": {
    "id": "TGHAoXfMymHO"
   },
   "source": [
    "### (c)\n",
    "\n"
   ]
  },
  {
   "cell_type": "code",
   "execution_count": 19,
   "metadata": {
    "id": "ItDMYWoFymHO"
   },
   "outputs": [
    {
     "name": "stdout",
     "output_type": "stream",
     "text": [
      "    age  anaemia  creatinine_phosphokinase  diabetes  ejection_fraction  \\\n",
      "0  75.0        0                       582         0                 20   \n",
      "1  55.0        0                      7861         0                 38   \n",
      "2  65.0        0                       146         0                 20   \n",
      "3  50.0        1                       111         0                 20   \n",
      "4  65.0        1                       160         1                 20   \n",
      "5  90.0        1                        47         0                 40   \n",
      "6  75.0        1                       246         0                 15   \n",
      "7  60.0        1                       315         1                 60   \n",
      "8  65.0        0                       157         0                 65   \n",
      "9  80.0        1                       123         0                 35   \n",
      "\n",
      "   high_blood_pressure  platelets  serum_creatinine  serum_sodium  sex  \\\n",
      "0                    1  265000.00               1.9           130    1   \n",
      "1                    0  263358.03               1.1           136    1   \n",
      "2                    0  162000.00               1.3           129    1   \n",
      "3                    0  210000.00               1.9           137    1   \n",
      "4                    0  327000.00               2.7           116    0   \n",
      "5                    1  204000.00               2.1           132    1   \n",
      "6                    0  127000.00               1.2           137    1   \n",
      "7                    0  454000.00               1.1           131    1   \n",
      "8                    0  263358.03               1.5           138    0   \n",
      "9                    1  388000.00               9.4           133    1   \n",
      "\n",
      "   smoking  time  DEATH_EVENT  \n",
      "0        0     4            1  \n",
      "1        0     6            1  \n",
      "2        1     7            1  \n",
      "3        0     7            1  \n",
      "4        0     8            1  \n",
      "5        1     8            1  \n",
      "6        0    10            1  \n",
      "7        1    10            1  \n",
      "8        0    10            1  \n",
      "9        1    10            1  \n"
     ]
    }
   ],
   "source": [
    "###\n",
    "print(heart_df.head(10))\n",
    "###"
   ]
  },
  {
   "cell_type": "markdown",
   "metadata": {
    "id": "7kNl2WpSymHO"
   },
   "source": [
    "### (d)"
   ]
  },
  {
   "cell_type": "code",
   "execution_count": 20,
   "metadata": {
    "id": "AblNbsncymHO"
   },
   "outputs": [
    {
     "name": "stdout",
     "output_type": "stream",
     "text": [
      "Number of rows and columns: (299, 13)\n"
     ]
    }
   ],
   "source": [
    "### \n",
    "print(\"Number of rows and columns:\", heart_df.shape)\n",
    "###"
   ]
  },
  {
   "cell_type": "markdown",
   "metadata": {
    "id": "xuh9-lN7ymHP"
   },
   "source": [
    "### (e)"
   ]
  },
  {
   "cell_type": "markdown",
   "metadata": {
    "id": "tL9qHIJXymHP"
   },
   "source": [
    "_[299]_"
   ]
  },
  {
   "cell_type": "markdown",
   "metadata": {
    "id": "csN1zEzLymHP"
   },
   "source": [
    "### (f)"
   ]
  },
  {
   "cell_type": "markdown",
   "metadata": {
    "id": "a0HNj-AyymHP"
   },
   "source": [
    "_[There are 12 independent variables. They are age, anaemia, creatinine_phosphokinase, diabetes, ejection_fraction, high_blood_pressure, platelets, serum_creatinine, serum_sodium, sex, smoking, time]_"
   ]
  },
  {
   "cell_type": "markdown",
   "metadata": {
    "id": "Ayov9je2ymHQ"
   },
   "source": [
    "### (g)"
   ]
  },
  {
   "cell_type": "markdown",
   "metadata": {
    "id": "B4E676ygymHQ"
   },
   "source": [
    "_[DEATH_EVENT is the only dependent variable because this is the only thing that is dependent on the other variables, so there is only 1 dependent variable.]_"
   ]
  },
  {
   "cell_type": "markdown",
   "metadata": {
    "id": "a8Bo-uKXymHQ"
   },
   "source": [
    "### (h)"
   ]
  },
  {
   "cell_type": "markdown",
   "metadata": {
    "id": "3gxnjWUgymHQ"
   },
   "source": [
    "_[The variable n would be the number of rows, which is 299, and the variable p would be the number of independent variables, which is 12. So the dimensions would be 299 x 12.]_"
   ]
  },
  {
   "cell_type": "markdown",
   "metadata": {
    "id": "G9BxqfsbymHQ"
   },
   "source": [
    "### (i)"
   ]
  },
  {
   "cell_type": "markdown",
   "metadata": {
    "id": "2bXh4Av6ymHR"
   },
   "source": [
    "_[Like my previous answer, n would still be 299 because that's the number of rows. The variable m, however, would be only one since there is only 1 dependent variable.]_"
   ]
  },
  {
   "cell_type": "markdown",
   "metadata": {
    "id": "OzpMBV2cymHR"
   },
   "source": [
    "### (j)"
   ]
  },
  {
   "cell_type": "code",
   "execution_count": 21,
   "metadata": {
    "id": "CM0kJiNMzftk"
   },
   "outputs": [
    {
     "data": {
      "text/plain": [
       "{'age': array([75.   , 55.   , 65.   , 50.   , 90.   , 60.   , 80.   , 62.   ,\n",
       "        45.   , 49.   , 82.   , 87.   , 70.   , 48.   , 68.   , 53.   ,\n",
       "        95.   , 58.   , 94.   , 85.   , 69.   , 72.   , 51.   , 57.   ,\n",
       "        42.   , 41.   , 67.   , 79.   , 59.   , 44.   , 63.   , 86.   ,\n",
       "        66.   , 43.   , 46.   , 61.   , 81.   , 52.   , 64.   , 40.   ,\n",
       "        60.667, 73.   , 77.   , 78.   , 54.   , 47.   , 56.   ]),\n",
       " 'anaemia': array([0, 1]),\n",
       " 'creatinine_phosphokinase': array([ 582, 7861,  146,  111,  160,   47,  246,  315,  157,  123,   81,\n",
       "         231,  981,  168,   80,  379,  149,  125,   52,  128,  220,   63,\n",
       "         148,  112,  122,   60,   70,   23,  249,  159,   94,  855, 2656,\n",
       "         235,  124,  571,  127,  588, 1380,  553,  129,  577,   91, 3964,\n",
       "          69,  260,  371,   75,  607,  789,  364, 7702,  318,  109,   68,\n",
       "         250,  110,  161,  113, 5882,  224,   92,  102,  203,  336,   76,\n",
       "          55,  280,   78,   84,  115,   66,  897,  154,  144,  133,  514,\n",
       "          59,  156,   61,  305,  898, 5209,   53,  328,  748, 1876,  936,\n",
       "         292,  369,  143,  754,  400,   96,  737,  358,  200,  248,  270,\n",
       "        1808, 1082,  719,  193, 4540,  646,  281, 1548,  805,  291,  482,\n",
       "         943,  185,  132, 1610, 2261,  233,   30, 1846,  335,   58,  910,\n",
       "          72,  130, 2334, 2442,  776,  196,  835, 3966,  171,  198,   95,\n",
       "        1419,  478,  176,  395,   99,  145,  104, 1896,  151,  244,   62,\n",
       "         121,  418,  167, 1211, 1767,  308,   97,   64,  101,  212, 2281,\n",
       "         972,  131,  135, 1202,  427, 1021,  118,   86,  675,   57, 2794,\n",
       "          56,  211,  166,   93,  707,  119,  232,  720,  180,   90, 1185,\n",
       "        2017,  624,  207, 2522,  572,  245,   88,  446,  191,  326,  655,\n",
       "         258,  298, 1199,  213,  257,  618, 1051, 2695, 1688,   54,  170,\n",
       "         253,  892,  337,  615,  320,  190,  103, 1820, 2060, 2413]),\n",
       " 'diabetes': array([0, 1]),\n",
       " 'ejection_fraction': array([20, 38, 40, 15, 60, 65, 35, 25, 30, 50, 14, 55, 45, 62, 80, 17, 70]),\n",
       " 'high_blood_pressure': array([1, 0]),\n",
       " 'platelets': array([265000.  , 263358.03, 162000.  , 210000.  , 327000.  , 204000.  ,\n",
       "        127000.  , 454000.  , 388000.  , 368000.  , 253000.  , 136000.  ,\n",
       "        276000.  , 427000.  ,  47000.  , 262000.  , 166000.  , 237000.  ,\n",
       "         87000.  , 297000.  , 289000.  , 149000.  , 196000.  , 284000.  ,\n",
       "        153000.  , 200000.  , 360000.  , 319000.  , 302000.  , 188000.  ,\n",
       "        228000.  , 226000.  , 321000.  , 305000.  , 329000.  , 185000.  ,\n",
       "        218000.  , 194000.  , 310000.  , 271000.  , 451000.  , 140000.  ,\n",
       "        395000.  , 418000.  , 351000.  , 255000.  , 461000.  , 223000.  ,\n",
       "        216000.  , 254000.  , 390000.  , 385000.  , 119000.  , 213000.  ,\n",
       "        274000.  , 244000.  , 497000.  , 374000.  , 122000.  , 243000.  ,\n",
       "        266000.  , 317000.  , 283000.  , 324000.  , 293000.  , 172000.  ,\n",
       "        406000.  , 173000.  , 304000.  , 235000.  , 181000.  , 249000.  ,\n",
       "        219000.  , 318000.  , 221000.  , 298000.  , 286000.  , 621000.  ,\n",
       "        263000.  , 850000.  , 306000.  , 252000.  , 328000.  , 164000.  ,\n",
       "        507000.  , 203000.  , 217000.  , 300000.  , 267000.  , 227000.  ,\n",
       "        250000.  , 295000.  , 231000.  , 211000.  , 348000.  , 229000.  ,\n",
       "        338000.  , 242000.  , 225000.  , 184000.  , 277000.  , 362000.  ,\n",
       "        174000.  , 448000.  ,  75000.  , 334000.  , 192000.  , 220000.  ,\n",
       "         70000.  , 270000.  , 325000.  , 176000.  , 189000.  , 281000.  ,\n",
       "        337000.  , 105000.  , 132000.  , 279000.  , 303000.  , 224000.  ,\n",
       "        389000.  , 365000.  , 201000.  , 275000.  , 350000.  , 309000.  ,\n",
       "        260000.  , 160000.  , 126000.  , 259000.  ,  73000.  , 377000.  ,\n",
       "        212000.  , 186000.  , 268000.  , 147000.  , 481000.  , 290000.  ,\n",
       "        358000.  , 151000.  , 371000.  , 130000.  , 504000.  , 141000.  ,\n",
       "         62000.  , 330000.  , 248000.  , 257000.  , 533000.  , 264000.  ,\n",
       "        282000.  , 314000.  , 246000.  , 301000.  , 404000.  , 236000.  ,\n",
       "        294000.  , 233000.  , 308000.  , 198000.  , 208000.  , 133000.  ,\n",
       "        222000.  , 215000.  , 150000.  , 422000.  ,  25100.  , 232000.  ,\n",
       "        241000.  ,  51000.  , 336000.  , 543000.  , 382000.  , 179000.  ,\n",
       "        155000.  , 742000.  ]),\n",
       " 'serum_creatinine': array([1.9 , 1.1 , 1.3 , 2.7 , 2.1 , 1.2 , 1.5 , 9.4 , 4.  , 0.9 , 1.  ,\n",
       "        0.8 , 1.6 , 1.83, 5.8 , 3.  , 3.5 , 2.3 , 0.6 , 4.4 , 1.4 , 6.8 ,\n",
       "        2.2 , 2.  , 1.18, 2.9 , 0.7 , 1.7 , 2.5 , 1.8 , 3.2 , 0.75, 3.7 ,\n",
       "        3.4 , 6.1 , 2.4 , 9.  , 5.  , 0.5 , 3.8 ]),\n",
       " 'serum_sodium': array([130, 136, 129, 137, 116, 132, 131, 138, 133, 140, 127, 121, 135,\n",
       "        134, 144, 128, 145, 142, 139, 146, 141, 143, 126, 124, 113, 125,\n",
       "        148]),\n",
       " 'sex': array([1, 0]),\n",
       " 'smoking': array([0, 1]),\n",
       " 'time': array([  4,   6,   7,   8,  10,  11,  12,  13,  14,  15,  16,  20,  22,\n",
       "         23,  24,  26,  27,  28,  29,  30,  31,  32,  33,  35,  38,  40,\n",
       "         41,  42,  43,  44,  45,  50,  54,  55,  59,  60,  61,  63,  64,\n",
       "         65,  66,  67,  68,  71,  72,  73,  74,  75,  76,  77,  78,  79,\n",
       "         80,  82,  83,  85,  86,  87,  88,  90,  91,  94,  95,  96,  97,\n",
       "        100, 104, 105, 106, 107, 108, 109, 110, 111, 112, 113, 115, 117,\n",
       "        118, 119, 120, 121, 123, 126, 129, 130, 134, 135, 140, 145, 146,\n",
       "        147, 148, 150, 154, 162, 170, 171, 172, 174, 175, 180, 185, 186,\n",
       "        187, 188, 192, 193, 194, 195, 196, 197, 198, 200, 201, 205, 206,\n",
       "        207, 208, 209, 210, 211, 212, 213, 214, 215, 216, 220, 230, 231,\n",
       "        233, 235, 237, 240, 241, 244, 245, 246, 247, 250, 256, 257, 258,\n",
       "        270, 271, 278, 280, 285]),\n",
       " 'DEATH_EVENT': array([1, 0])}"
      ]
     },
     "execution_count": 21,
     "metadata": {},
     "output_type": "execute_result"
    },
    {
     "data": {
      "image/png": "[encoded data removed]",
      "text/plain": [
       "<Figure size 1500x1000 with 16 Axes>"
      ]
     },
     "metadata": {},
     "output_type": "display_data"
    }
   ],
   "source": [
    "###\n",
    "unique_values = {}\n",
    "for column in heart_df.columns:\n",
    "    unique_values[column] = heart_df[column].unique()\n",
    "heart_df.hist(figsize=(15, 10))\n",
    "unique_values\n",
    "###"
   ]
  },
  {
   "cell_type": "markdown",
   "metadata": {
    "id": "1tX1-uIgymHR"
   },
   "source": [
    "_[These categorical variables I have spotted are anaemia, diabetes, high blood pressure, sex, smoking and feath event. Thwe reason why is because these varaibles only have a small, unqiue amount of values and pretty much all of them are just 0 and 1. This means that they are represenitng categories, because the other variables represent and show continuous data.]_"
   ]
  },
  {
   "cell_type": "markdown",
   "metadata": {
    "id": "2BBhe25UymHR"
   },
   "source": [
    "### (k)"
   ]
  },
  {
   "cell_type": "markdown",
   "metadata": {
    "id": "PNxn1zIzymHR"
   },
   "source": [
    "_[This uses label encoding since we use unique integers to represent the category. One-hot encoding by contrast uses more than one column to represent the category, while here we are simply using binary categorical encoding which uses one column. So, this is why it's label encoding.]_"
   ]
  },
  {
   "cell_type": "markdown",
   "metadata": {
    "id": "e9TnxUb3ymHR"
   },
   "source": [
    "### (l)"
   ]
  },
  {
   "cell_type": "code",
   "execution_count": 22,
   "metadata": {
    "id": "KUfiYo3lymHS"
   },
   "outputs": [
    {
     "name": "stdout",
     "output_type": "stream",
     "text": [
      "Number of deceased patients: 96\n",
      "Number of remaining patients: 203\n"
     ]
    }
   ],
   "source": [
    "### \n",
    "deceased_count = heart_df['DEATH_EVENT'].value_counts()[1]\n",
    "remaining_count = heart_df['DEATH_EVENT'].value_counts()[0]\n",
    "print(f\"Number of deceased patients: {deceased_count}\")\n",
    "print(f\"Number of remaining patients: {remaining_count}\")\n",
    "###"
   ]
  },
  {
   "cell_type": "markdown",
   "metadata": {
    "id": "VlxMlRziymHS"
   },
   "source": [
    "### (m)"
   ]
  },
  {
   "cell_type": "code",
   "execution_count": 23,
   "metadata": {
    "id": "Kp2yCXJ-z3Gh"
   },
   "outputs": [
    {
     "name": "stdout",
     "output_type": "stream",
     "text": [
      "Number of male patients: 194\n",
      "Number of female patients: 105\n"
     ]
    }
   ],
   "source": [
    "### \n",
    "male_count = heart_df['sex'].value_counts()[1]\n",
    "female_count = heart_df['sex'].value_counts()[0]\n",
    "print(f\"Number of male patients: {male_count}\")\n",
    "print(f\"Number of female patients: {female_count}\")\n",
    "###"
   ]
  },
  {
   "cell_type": "markdown",
   "metadata": {
    "id": "S-53k2x3ymHS"
   },
   "source": [
    "### (n)"
   ]
  },
  {
   "cell_type": "code",
   "execution_count": 24,
   "metadata": {
    "id": "emwfFgVAymHT"
   },
   "outputs": [
    {
     "name": "stdout",
     "output_type": "stream",
     "text": [
      "Number of smokers: 96\n",
      "Number of non-smokers: 203\n"
     ]
    }
   ],
   "source": [
    "###\n",
    "# Count the number of smokers and non-smokers\n",
    "smoker_count = heart_df['smoking'].value_counts()[1]\n",
    "non_smoker_count = heart_df['smoking'].value_counts()[0]\n",
    "\n",
    "print(f\"Number of smokers: {smoker_count}\")\n",
    "print(f\"Number of non-smokers: {non_smoker_count}\")\n",
    "###"
   ]
  },
  {
   "cell_type": "markdown",
   "metadata": {
    "id": "FpQWnOOpymHT"
   },
   "source": [
    "## Problem 2.2"
   ]
  },
  {
   "cell_type": "code",
   "execution_count": 25,
   "metadata": {
    "id": "QmAtpjMiymHU"
   },
   "outputs": [
    {
     "name": "stdout",
     "output_type": "stream",
     "text": [
      "    age  anaemia  creatinine_phosphokinase  diabetes  ejection_fraction  \\\n",
      "0  75.0        0                     582.0       0.0               20.0   \n",
      "1  55.0        0                    7861.0       0.0               38.0   \n",
      "2  65.0        0                     146.0       0.0               20.0   \n",
      "3  50.0        1                     111.0       0.0               20.0   \n",
      "4  65.0        1                     160.0       1.0               20.0   \n",
      "\n",
      "   high_blood_pressure  platelets  serum_creatinine  serum_sodium  sex  \\\n",
      "0                  1.0  265000.00               1.9         130.0  1.0   \n",
      "1                  0.0  263358.03               1.1         136.0  1.0   \n",
      "2                  0.0  162000.00               1.3         129.0  1.0   \n",
      "3                  0.0  210000.00               1.9         137.0  1.0   \n",
      "4                  0.0  327000.00               2.7           NaN  0.0   \n",
      "\n",
      "   smoking  time  DEATH_EVENT  \n",
      "0      0.0     4          1.0  \n",
      "1      0.0     6          1.0  \n",
      "2      1.0     7          1.0  \n",
      "3      0.0     7          1.0  \n",
      "4      0.0     8          1.0  \n"
     ]
    }
   ],
   "source": [
    "### \n",
    "heart_df.loc[(heart_df['age'] < 0) | (heart_df['age'] > 120), 'age'] = np.nan\n",
    "heart_df.loc[heart_df['creatinine_phosphokinase'] < 0, 'creatinine_phosphokinase'] = np.nan\n",
    "heart_df.loc[(heart_df['ejection_fraction'] < 0) | (heart_df['ejection_fraction'] > 100), 'ejection_fraction'] = np.nan\n",
    "heart_df.loc[(heart_df['serum_creatinine'] < 0) | (heart_df['serum_creatinine'] > 20), 'serum_creatinine'] = np.nan\n",
    "heart_df.loc[(heart_df['serum_sodium'] < 120) | (heart_df['serum_sodium'] > 160), 'serum_sodium'] = np.nan\n",
    "heart_df.loc[heart_df['platelets'] < 0, 'platelets'] = np.nan\n",
    "heart_df.loc[~heart_df['high_blood_pressure'].isin([0, 1]), 'high_blood_pressure'] = np.nan\n",
    "heart_df.loc[~heart_df['diabetes'].isin([0, 1]), 'diabetes'] = np.nan\n",
    "heart_df.loc[~heart_df['sex'].isin([0, 1]), 'sex'] = np.nan\n",
    "heart_df.loc[~heart_df['smoking'].isin([0, 1]), 'smoking'] = np.nan\n",
    "heart_df.loc[~heart_df['DEATH_EVENT'].isin([0, 1]), 'DEATH_EVENT'] = np.nan\n",
    "print(heart_df.head())\n",
    "###"
   ]
  },
  {
   "cell_type": "markdown",
   "metadata": {
    "id": "it9WyiZiymHU"
   },
   "source": [
    "_[So, first logical check was the age. A normal human life expectancy would be roughly from 0 to 120, so any negative value or some value outside this range on the positive side would most likely be an error. Next, the creatinine phosphokinase category should not be negative at all since concentrations of enzymes literally cannot be negative. Ejection friction is a percetange so the percentage should only be between 0% to 100%. Serum creatinine usually lies within 0 to 20 mg/dL, so anything beyond this range is highly unlikely to be real, and most likely an error. Serum sodium levels typically fall between 120 and 160 mEq/L so anything outside this range would probably not be real and instead be an error too. Platlets cannot have a negative count as that is not possible in reality. High blood pressure, diabetes, sex, smoking, DEATH_EVENT should all only be 1 or 0 because they are binary categories. Anything that we deemed invalid would be NaN-ed.]_"
   ]
  },
  {
   "cell_type": "markdown",
   "metadata": {
    "id": "6fqh4x4FymHV"
   },
   "source": [
    "## Problem 2.3"
   ]
  },
  {
   "cell_type": "code",
   "execution_count": 26,
   "metadata": {
    "id": "gMs526ezymHV"
   },
   "outputs": [
    {
     "name": "stdout",
     "output_type": "stream",
     "text": [
      "         age   anaemia  creatinine_phosphokinase  diabetes  ejection_fraction  \\\n",
      "0   1.190949 -0.869647                  0.000165 -0.846161          -1.527998   \n",
      "1  -0.490457 -0.869647                  7.502063 -0.846161          -0.007065   \n",
      "2   0.350246 -0.869647                 -0.449186 -0.846161          -1.527998   \n",
      "3  -0.910808  1.146046                 -0.485257 -0.846161          -1.527998   \n",
      "4   0.350246  1.146046                 -0.434757  1.177856          -1.527998   \n",
      "5   2.452003  1.146046                 -0.551217 -0.846161           0.161928   \n",
      "6   1.190949  1.146046                 -0.346124 -0.846161          -1.950479   \n",
      "7  -0.070106  1.146046                 -0.275011  1.177856           1.851853   \n",
      "8   0.350246 -0.869647                 -0.437849 -0.846161           2.274335   \n",
      "9   1.611300  1.146046                 -0.472890 -0.846161          -0.260554   \n",
      "10  1.190949  1.146046                 -0.516176 -0.846161          -0.007065   \n",
      "11  0.098035 -0.869647                 -0.361583 -0.846161          -1.105517   \n",
      "12 -1.331160  1.146046                  0.411384 -0.846161          -0.683035   \n",
      "13 -0.910808  1.146046                 -0.426512 -0.846161          -0.007065   \n",
      "14 -0.994879  1.146046                 -0.517207 -0.846161          -0.683035   \n",
      "15  1.779441  1.146046                 -0.209051 -0.846161           1.006890   \n",
      "16  2.199792  1.146046                 -0.446094 -0.846161          -0.007065   \n",
      "17 -1.331160 -0.869647                  0.000165 -0.846161          -2.034976   \n",
      "18  0.770597  1.146046                 -0.470829 -0.846161          -1.105517   \n",
      "19 -1.078949  1.146046                  0.000165  1.177856           1.429372   \n",
      "\n",
      "    high_blood_pressure     platelets  serum_creatinine  serum_sodium  sex  \\\n",
      "0              1.356997  1.678834e-02          0.489237     -1.680195  1.0   \n",
      "1             -0.734457  7.523048e-09         -0.284076     -0.192070  1.0   \n",
      "2             -0.734457 -1.036336e+00         -0.090748     -1.928216  1.0   \n",
      "3             -0.734457 -5.455595e-01          0.489237      0.055951  1.0   \n",
      "4             -0.734457  6.507077e-01          1.262550           NaN  0.0   \n",
      "5              1.356997 -6.069065e-01          0.682565     -1.184153  1.0   \n",
      "6             -0.734457 -1.394193e+00         -0.187412      0.055951  1.0   \n",
      "7             -0.734457  1.949220e+00         -0.284076     -1.432174  1.0   \n",
      "8             -0.734457  7.523048e-09          0.102580      0.303972  0.0   \n",
      "9              1.356997  1.274403e+00          7.739045     -0.936133  1.0   \n",
      "10             1.356997  1.069912e+00          2.519183     -1.432174  1.0   \n",
      "11             1.356997 -1.059057e-01         -0.477404      0.800013  1.0   \n",
      "12            -0.734457 -1.302173e+00         -0.284076      0.055951  1.0   \n",
      "13             1.356997  1.292579e-01         -0.284076      0.055951  1.0   \n",
      "14             1.356997  1.673158e+00         -0.380740      0.303972  0.0   \n",
      "15            -0.734457 -2.212154e+00         -0.090748     -0.192070  1.0   \n",
      "16            -0.734457 -1.388518e-02         -0.477404      0.800013  1.0   \n",
      "17            -0.734457 -9.954377e-01         -0.574068     -2.424258  1.0   \n",
      "18             1.356997 -2.694978e-01         -0.380740      0.800013  0.0   \n",
      "19            -0.734457 -1.803174e+00          0.489237     -3.912383  0.0   \n",
      "\n",
      "    smoking      time  DEATH_EVENT  \n",
      "0       0.0 -1.626775          1.0  \n",
      "1       0.0 -1.601007          1.0  \n",
      "2       1.0 -1.588122          1.0  \n",
      "3       0.0 -1.588122          1.0  \n",
      "4       0.0 -1.575238          1.0  \n",
      "5       1.0 -1.575238          1.0  \n",
      "6       0.0 -1.549470          1.0  \n",
      "7       1.0 -1.549470          1.0  \n",
      "8       0.0 -1.549470          1.0  \n",
      "9       1.0 -1.549470          1.0  \n",
      "10      1.0 -1.549470          1.0  \n",
      "11      1.0 -1.549470          1.0  \n",
      "12      0.0 -1.536586          1.0  \n",
      "13      0.0 -1.536586          1.0  \n",
      "14      0.0 -1.523701          0.0  \n",
      "15      0.0 -1.510817          1.0  \n",
      "16      0.0 -1.497933          1.0  \n",
      "17      0.0 -1.497933          1.0  \n",
      "18      0.0 -1.485049          1.0  \n",
      "19      0.0 -1.485049          1.0  \n"
     ]
    }
   ],
   "source": [
    "### \n",
    "non_categorical_columns = heart_df.drop(columns=['sex', 'smoking', 'DEATH_EVENT']).columns\n",
    "heart_df[non_categorical_columns] = heart_df[non_categorical_columns].apply(lambda x: (x - x.mean()) / x.std(), axis=0)\n",
    "print(heart_df.head(20))\n",
    "###"
   ]
  },
  {
   "cell_type": "markdown",
   "metadata": {
    "id": "E98vhjP2ymHV"
   },
   "source": [
    "## Problem 2.4"
   ]
  },
  {
   "cell_type": "code",
   "execution_count": 27,
   "metadata": {
    "id": "SPylR2kxymHW"
   },
   "outputs": [
    {
     "name": "stdout",
     "output_type": "stream",
     "text": [
      "        age   anaemia  creatinine_phosphokinase  diabetes  ejection_fraction  \\\n",
      "0  1.190949 -0.869647                  0.000165 -0.846161          -1.527998   \n",
      "1 -0.490457 -0.869647                  7.502063 -0.846161          -0.007065   \n",
      "2  0.350246 -0.869647                 -0.449186 -0.846161          -1.527998   \n",
      "3 -0.910808  1.146046                 -0.485257 -0.846161          -1.527998   \n",
      "4  0.350246  1.146046                 -0.434757  1.177856          -1.527998   \n",
      "\n",
      "   high_blood_pressure     platelets  serum_creatinine  serum_sodium  sex  \\\n",
      "0             1.356997  1.678834e-02          0.489237     -1.680195  1.0   \n",
      "1            -0.734457  7.523048e-09         -0.284076     -0.192070  1.0   \n",
      "2            -0.734457 -1.036336e+00         -0.090748     -1.928216  1.0   \n",
      "3            -0.734457 -5.455595e-01          0.489237      0.055951  1.0   \n",
      "4            -0.734457  6.507077e-01          1.262550           NaN  0.0   \n",
      "\n",
      "   smoking      time  DEATH_EVENT_0.0  DEATH_EVENT_1.0  \n",
      "0      0.0 -1.626775            False             True  \n",
      "1      0.0 -1.601007            False             True  \n",
      "2      1.0 -1.588122            False             True  \n",
      "3      0.0 -1.588122            False             True  \n",
      "4      0.0 -1.575238            False             True  \n"
     ]
    }
   ],
   "source": [
    "### \n",
    "heart_df_encoded = pd.get_dummies(heart_df, columns=['DEATH_EVENT'], prefix='DEATH_EVENT')\n",
    "heart_df_encoded.to_csv('heart_failure_dataset_processed.csv', index=False)\n",
    "print(heart_df_encoded.head())\n",
    "###"
   ]
  },
  {
   "cell_type": "markdown",
   "metadata": {
    "id": "xfPMV5BEymHW"
   },
   "source": [
    "## Problem 2.5"
   ]
  },
  {
   "cell_type": "code",
   "execution_count": 28,
   "metadata": {
    "id": "RgVpyMUmymHW"
   },
   "outputs": [
    {
     "name": "stdout",
     "output_type": "stream",
     "text": [
      "                               age   anaemia  creatinine_phosphokinase  \\\n",
      "age                       1.000000  0.088006                 -0.081584   \n",
      "anaemia                   0.088006  1.000000                 -0.190741   \n",
      "creatinine_phosphokinase -0.081584 -0.190741                  1.000000   \n",
      "diabetes                 -0.101012 -0.012729                 -0.009639   \n",
      "ejection_fraction         0.060098  0.031557                 -0.044080   \n",
      "high_blood_pressure       0.093289  0.038182                 -0.070590   \n",
      "platelets                -0.052354 -0.043786                  0.024463   \n",
      "serum_creatinine          0.159187  0.052174                 -0.016408   \n",
      "serum_sodium             -0.045799  0.048775                  0.070794   \n",
      "sex                       0.065430 -0.094769                  0.079791   \n",
      "smoking                   0.018668 -0.107290                  0.002421   \n",
      "time                     -0.224068 -0.141414                 -0.009346   \n",
      "DEATH_EVENT               0.253729  0.066270                  0.062728   \n",
      "\n",
      "                          diabetes  ejection_fraction  high_blood_pressure  \\\n",
      "age                      -0.101012           0.060098             0.093289   \n",
      "anaemia                  -0.012729           0.031557             0.038182   \n",
      "creatinine_phosphokinase -0.009639          -0.044080            -0.070590   \n",
      "diabetes                  1.000000          -0.004850            -0.012732   \n",
      "ejection_fraction        -0.004850           1.000000             0.024445   \n",
      "high_blood_pressure      -0.012732           0.024445             1.000000   \n",
      "platelets                 0.092193           0.072177             0.049963   \n",
      "serum_creatinine         -0.046975          -0.011302            -0.004935   \n",
      "serum_sodium             -0.054772           0.162131             0.013450   \n",
      "sex                      -0.157730          -0.148386            -0.104615   \n",
      "smoking                  -0.147173          -0.067315            -0.055711   \n",
      "time                      0.033726           0.041729            -0.196439   \n",
      "DEATH_EVENT              -0.001943          -0.268603             0.079351   \n",
      "\n",
      "                          platelets  serum_creatinine  serum_sodium       sex  \\\n",
      "age                       -0.052354          0.159187     -0.045799  0.065430   \n",
      "anaemia                   -0.043786          0.052174      0.048775 -0.094769   \n",
      "creatinine_phosphokinase   0.024463         -0.016408      0.070794  0.079791   \n",
      "diabetes                   0.092193         -0.046975     -0.054772 -0.157730   \n",
      "ejection_fraction          0.072177         -0.011302      0.162131 -0.148386   \n",
      "high_blood_pressure        0.049963         -0.004935      0.013450 -0.104615   \n",
      "platelets                  1.000000         -0.041198      0.079563 -0.125120   \n",
      "serum_creatinine          -0.041198          1.000000     -0.178471  0.006970   \n",
      "serum_sodium               0.079563         -0.178471      1.000000 -0.039388   \n",
      "sex                       -0.125120          0.006970     -0.039388  1.000000   \n",
      "smoking                    0.028234         -0.027414      0.022294  0.445892   \n",
      "time                       0.010514         -0.149315      0.083587 -0.015608   \n",
      "DEATH_EVENT               -0.049139          0.294278     -0.203677 -0.004316   \n",
      "\n",
      "                           smoking      time  DEATH_EVENT  \n",
      "age                       0.018668 -0.224068     0.253729  \n",
      "anaemia                  -0.107290 -0.141414     0.066270  \n",
      "creatinine_phosphokinase  0.002421 -0.009346     0.062728  \n",
      "diabetes                 -0.147173  0.033726    -0.001943  \n",
      "ejection_fraction        -0.067315  0.041729    -0.268603  \n",
      "high_blood_pressure      -0.055711 -0.196439     0.079351  \n",
      "platelets                 0.028234  0.010514    -0.049139  \n",
      "serum_creatinine         -0.027414 -0.149315     0.294278  \n",
      "serum_sodium              0.022294  0.083587    -0.203677  \n",
      "sex                       0.445892 -0.015608    -0.004316  \n",
      "smoking                   1.000000 -0.022839    -0.012623  \n",
      "time                     -0.022839  1.000000    -0.526964  \n",
      "DEATH_EVENT              -0.012623 -0.526964     1.000000  \n",
      "\n",
      "Two most negatively correlated variables with 'DEATH_EVENT':\n",
      "time                -0.526964\n",
      "ejection_fraction   -0.268603\n",
      "Name: DEATH_EVENT, dtype: float64\n",
      "\n",
      "Two most positively correlated variables with 'DEATH_EVENT':\n",
      "age                 0.253729\n",
      "serum_creatinine    0.294278\n",
      "DEATH_EVENT         1.000000\n",
      "Name: DEATH_EVENT, dtype: float64\n"
     ]
    }
   ],
   "source": [
    "### \n",
    "correlation_matrix = heart_df.corr()\n",
    "print(correlation_matrix)\n",
    "death_event_corr = correlation_matrix['DEATH_EVENT'].sort_values()\n",
    "print(\"\\nTwo most negatively correlated variables with 'DEATH_EVENT':\")\n",
    "print(death_event_corr.head(2))\n",
    "print(\"\\nTwo most positively correlated variables with 'DEATH_EVENT':\")\n",
    "print(death_event_corr.tail(3))\n",
    "###"
   ]
  },
  {
   "cell_type": "markdown",
   "metadata": {
    "id": "ANRm2Vxh1Cda"
   },
   "source": [
    "### (a)"
   ]
  },
  {
   "cell_type": "markdown",
   "metadata": {
    "id": "2E0LfOKm1CVp"
   },
   "source": [
    "_[Age (correlation = 0.253729) and serum creatinine  (correlation = 0.294278)]_"
   ]
  },
  {
   "cell_type": "markdown",
   "metadata": {
    "id": "HewpTMK61CI7"
   },
   "source": [
    "### (b)"
   ]
  },
  {
   "cell_type": "markdown",
   "metadata": {
    "id": "LRK015A91B-R"
   },
   "source": [
    "_[Time correlation = -0.526964)and ejection fraction (correlation = -0.268603)]_"
   ]
  },
  {
   "cell_type": "markdown",
   "metadata": {
    "id": "jnGzZ9gO1BoX"
   },
   "source": [
    "### (c)"
   ]
  },
  {
   "cell_type": "markdown",
   "metadata": {
    "id": "zXc0HGwg1BlY"
   },
   "source": [
    "_[It makes sense that serum creatinine is the second most positively correlated variable with the DEATH_EVENT variable because after looking it up, serum creatinine is a waste product in the blood that comes from muscle metabolism, and higher levels of serum creatinine usually means that they have an impaired kidney function, which is common in severe heart conditions, and knowing that heart failures do actually affect other organs like the kidney, it would make sense that there is a positve corrleation between DEATH_EVENT and serum creatinine.]_"
   ]
  },
  {
   "cell_type": "markdown",
   "metadata": {
    "id": "fE1TPn3s1Xq9"
   },
   "source": [
    "### (d)"
   ]
  },
  {
   "cell_type": "markdown",
   "metadata": {
    "id": "1RXjXFH81XhL"
   },
   "source": [
    "_[My first most negative correlated variable is Time here refers to the duration of follow-up, so if there is a negative correlation, then that shows that patients who have survived longer have a lower likelihood of dying, and this is logical since the longer the patient survives after a heart failure, the less likely they will die afterward during the observation period. Another negatively correlated variable that was pretty high was ejection fraction, and this simply means the percentage of blood he left ventricle pumps out with each contraction. So, a higher value for ejection means more blood pumped out, meaning a healthier person, so it would make sense a negative correlation would exist with DEATH_EVENT as patients with higher ejection fractions would mean they are healthier people on average, reducing the chacne of them dying from heart failure.]_"
   ]
  },
  {
   "cell_type": "code",
   "execution_count": null,
   "metadata": {},
   "outputs": [],
   "source": []
  }
 ],
 "metadata": {
  "colab": {
   "collapsed_sections": [],
   "provenance": []
  },
  "kernelspec": {
   "display_name": "Python 3 (ipykernel)",
   "language": "python",
   "name": "python3"
  },
  "language_info": {
   "codemirror_mode": {
    "name": "ipython",
    "version": 3
   },
   "file_extension": ".py",
   "mimetype": "text/x-python",
   "name": "python",
   "nbconvert_exporter": "python",
   "pygments_lexer": "ipython3",
   "version": "3.12.6"
  }
 },
 "nbformat": 4,
 "nbformat_minor": 4
}
